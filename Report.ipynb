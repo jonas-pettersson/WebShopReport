{
 "cells": [
  {
   "cell_type": "markdown",
   "id": "c59d294c-a919-4cf6-90b1-20912e17459f",
   "metadata": {},
   "source": [
    "# Generate Documents - Svenska Kyrkan i Wien"
   ]
  },
  {
   "cell_type": "code",
   "execution_count": 1,
   "id": "ca8005c5-97c6-4c2c-b6a4-37b404da537b",
   "metadata": {
    "tags": []
   },
   "outputs": [],
   "source": [
    "# import sys\n",
    "# !python -m pip install openpyxl"
   ]
  },
  {
   "cell_type": "markdown",
   "id": "33ce77c8-b8ca-4cc9-abca-dd435fc49846",
   "metadata": {},
   "source": [
    "### Preliminaries"
   ]
  },
  {
   "cell_type": "code",
   "execution_count": 2,
   "id": "695fd8c4-ab01-4539-a23e-3655edf57b0b",
   "metadata": {},
   "outputs": [],
   "source": [
    "import pandas as pd\n",
    "import numpy as np\n",
    "from pathlib import Path"
   ]
  },
  {
   "cell_type": "code",
   "execution_count": 3,
   "id": "127d5c73-6db1-416d-b60b-8403a0da43ef",
   "metadata": {},
   "outputs": [
    {
     "name": "stdout",
     "output_type": "stream",
     "text": [
      "C:\\Users\\atw10wp4\\Jupyter\\Enterprise\\SvenskaKyrkan\n"
     ]
    }
   ],
   "source": [
    "BASE_DIR = Path.cwd()\n",
    "print(BASE_DIR)"
   ]
  },
  {
   "cell_type": "code",
   "execution_count": 4,
   "id": "94e91a79-d866-461e-b02c-a6b08a429ebf",
   "metadata": {},
   "outputs": [],
   "source": [
    "inputDirectory = 'input_pask'\n",
    "outputDirectory = 'output_pask'\n",
    "\n",
    "# Inputs\n",
    "fileNameProducts = 'wc-product-export.csv'\n",
    "fileNameOrders = 'orders.xlsx'\n",
    "fileNameTimeslots = 'tidsbokning.csv'\n",
    "fileNameProductPlacement = 'product_list.xlsx'\n",
    "\n",
    "# Outputs\n",
    "fileNameMasterList = 'masterlista.xlsx'\n",
    "\n",
    "fileNameAllData = 'allData.xlsx'"
   ]
  },
  {
   "cell_type": "markdown",
   "id": "03a82194-78c1-43f5-a6bd-9ee4bd309e2b",
   "metadata": {},
   "source": [
    "### Read Data"
   ]
  },
  {
   "cell_type": "code",
   "execution_count": 5,
   "id": "ea61488c-746c-42a1-9f71-d9f53bf4b9a0",
   "metadata": {},
   "outputs": [],
   "source": [
    "dfProducts = pd.read_csv(BASE_DIR / inputDirectory / fileNameProducts)"
   ]
  },
  {
   "cell_type": "code",
   "execution_count": 6,
   "id": "8e0453df-312a-4d34-ab56-24e5fa4575f0",
   "metadata": {},
   "outputs": [],
   "source": [
    "if 'Artikelnummer' in dfProducts.columns:\n",
    "    dfProducts.rename(columns={'Artikelnummer':'SKU'}, inplace=True)\n",
    "    \n",
    "if 'Typ' in dfProducts.columns:\n",
    "    dfProducts.rename(columns={'Typ':'Type'}, inplace=True)\n",
    "    \n",
    "if 'Regulärer Preis' in dfProducts.columns:\n",
    "    dfProducts.rename(columns={'Regulärer Preis':'Regular price'}, inplace=True)"
   ]
  },
  {
   "cell_type": "code",
   "execution_count": 7,
   "id": "6f4ed3d2-5ea3-46dc-abd3-80b9d77e2a70",
   "metadata": {},
   "outputs": [],
   "source": [
    "dfOrders = pd.read_excel(str(BASE_DIR / inputDirectory / fileNameOrders))"
   ]
  },
  {
   "cell_type": "code",
   "execution_count": 8,
   "id": "fbfc947c-6559-4b64-81a2-5cb32948f086",
   "metadata": {},
   "outputs": [],
   "source": [
    "if 'E-Mail-Adresse' in dfOrders.columns:\n",
    "    dfOrders.rename(columns={'E-Mail-Adresse':'Email (Billing)'}, inplace=True)\n",
    "    \n",
    "if 'Telefon' in dfOrders.columns:\n",
    "    dfOrders.rename(columns={'Telefon':'Telephone'}, inplace=True)\n",
    "    \n",
    "if 'Phone (Billing)' in dfOrders.columns:\n",
    "    dfOrders.rename(columns={'Phone (Billing)':'Telephone'}, inplace=True)\n",
    "    \n",
    "if 'Info_OK' in dfOrders.columns:\n",
    "    dfOrders.rename(columns={'Info_OK':'Info'}, inplace=True)"
   ]
  },
  {
   "cell_type": "code",
   "execution_count": 9,
   "id": "df20fa3c-87b4-4285-81bb-0742cce1ba8c",
   "metadata": {},
   "outputs": [],
   "source": [
    "dfTimeslots = pd.read_csv(BASE_DIR / inputDirectory / fileNameTimeslots, encoding='latin_1', \n",
    "                         parse_dates=['Time', 'app_date_1', 'app_datetime_1'], index_col=False)"
   ]
  },
  {
   "cell_type": "code",
   "execution_count": 10,
   "id": "d3b1786c-a9ef-4225-9c9d-f6f725e3c4f2",
   "metadata": {},
   "outputs": [],
   "source": [
    "dfProductPlacement = pd.read_excel(str(BASE_DIR / inputDirectory / fileNameProductPlacement), sheet_name='Produktlista')"
   ]
  },
  {
   "cell_type": "code",
   "execution_count": 11,
   "id": "1f4f88bb-d372-4a41-901d-af0b5c730b64",
   "metadata": {},
   "outputs": [],
   "source": [
    "# dfOrders[['Full Name (Billing)', 'Email (Billing)', 'Telephone', 'Order Total Amount','Order Date', 'Customer Note' ]].drop_duplicates()"
   ]
  },
  {
   "cell_type": "markdown",
   "id": "cfa18258-7db2-4169-8857-3e8bd933e6a0",
   "metadata": {
    "tags": []
   },
   "source": [
    "### Merge and Select Data"
   ]
  },
  {
   "cell_type": "code",
   "execution_count": 12,
   "id": "401b49cf-8b28-46ac-870e-2f4ef50fc91e",
   "metadata": {},
   "outputs": [],
   "source": [
    "# Merge orders with timeslots\n",
    "dfAllData = pd.merge(dfOrders, dfTimeslots, left_on='Email (Billing)', right_on='Email')"
   ]
  },
  {
   "cell_type": "code",
   "execution_count": 13,
   "id": "ed3681b4-f29b-4186-bf5c-c7ee5c0fb5d0",
   "metadata": {},
   "outputs": [],
   "source": [
    "# Merge with products\n",
    "dfAllData = pd.merge(dfAllData, dfProducts, on='SKU')"
   ]
  },
  {
   "cell_type": "code",
   "execution_count": 14,
   "id": "5f9e6cba-e1e6-482a-a513-715d8acef2d4",
   "metadata": {},
   "outputs": [],
   "source": [
    "# Merge with product placements\n",
    "dfAllData = pd.merge(dfAllData, dfProductPlacement, left_on='SKU', right_on='Artikelnummer', suffixes=[None, '_y'])"
   ]
  },
  {
   "cell_type": "code",
   "execution_count": 15,
   "id": "01880683-4816-44e0-be1b-afa95bfc7113",
   "metadata": {
    "tags": []
   },
   "outputs": [],
   "source": [
    "# Fields with data\n",
    "dfAllData = dfAllData[['Order Number', 'Full Name (Billing)', 'Email (Billing)',\n",
    "                       'Order Total Amount', 'Order Date', 'Order Status', 'Customer Note',\n",
    "                       'Telephone', 'Quantity', 'Product Name', 'Item Cost (inc. tax)',\n",
    "                       'Item #', 'Info', 'Time', 'app_date_1', 'app_slot_1',\n",
    "                       'Type', 'Artikelnummer', 'Kurzbeschreibung',\n",
    "                       'Beschreibung', 'Lager', 'Regular price', 'Kategorien',\n",
    "                       'Placering/1', 'Placering/2', 'PlockOmr', 'PlockHylla']]"
   ]
  },
  {
   "cell_type": "code",
   "execution_count": 16,
   "id": "eaedc127-83b8-4988-bbe6-c84d23509be7",
   "metadata": {},
   "outputs": [],
   "source": [
    "# Standardized column namings\n",
    "dfAllData.columns = ['OrderNumber', 'FullName', 'Email',\n",
    "                     'OrderTotalAmount', 'OrderDate', 'OrderStatus', 'CustomerNote',\n",
    "                     'Telephone', 'Quantity', 'ProductName', 'ItemCost',\n",
    "                     'ItemID', 'Info', 'OrderTime', 'PickUpDate', 'PickUpTime',\n",
    "                     'Type', 'ArticleNumber', 'ProductNameDE',\n",
    "                     'Description', 'Warehouse', 'RegularPrice', 'Categories',\n",
    "                     'Placement_1', 'Placement_2', 'PickUpArea', 'PickUpShelf']"
   ]
  },
  {
   "cell_type": "code",
   "execution_count": 17,
   "id": "853328c6-0564-4bd4-a0af-b9738afe2e9c",
   "metadata": {
    "tags": []
   },
   "outputs": [],
   "source": [
    "# Selection of relevant data and more logical sorting of columns\n",
    "dfAllData = dfAllData[['OrderNumber', 'OrderDate', 'OrderTime', \n",
    "                       'FullName', 'Email', 'Telephone', 'CustomerNote',\n",
    "                       'ItemID', 'Info', 'Type', 'ArticleNumber', 'ProductName', 'ProductNameDE',\n",
    "                       'Quantity',  'ItemCost', 'OrderTotalAmount',  'OrderStatus',\n",
    "                       'RegularPrice', 'Categories',\n",
    "                       'PickUpDate', 'PickUpTime',\n",
    "                       'Placement_1', 'Placement_2', 'PickUpArea', 'PickUpShelf']]"
   ]
  },
  {
   "cell_type": "code",
   "execution_count": 18,
   "id": "909e2764-452c-4a12-b2a8-84e7165ede12",
   "metadata": {},
   "outputs": [],
   "source": [
    "dfAllData.to_excel(BASE_DIR / outputDirectory / fileNameAllData)"
   ]
  },
  {
   "cell_type": "markdown",
   "id": "ba839b50-f839-48d0-9c64-7ea1fa0ce485",
   "metadata": {},
   "source": [
    "### Diffs"
   ]
  },
  {
   "cell_type": "code",
   "execution_count": 19,
   "id": "6c0e333c-7b17-4eb6-8a9a-8c0ad316da5c",
   "metadata": {},
   "outputs": [],
   "source": [
    "orderEmails = dfOrders['Email (Billing)'].unique()"
   ]
  },
  {
   "cell_type": "code",
   "execution_count": 20,
   "id": "0f599c14-e6be-4418-869e-60c2ef33ae33",
   "metadata": {},
   "outputs": [],
   "source": [
    "timeSlotEmails = dfTimeslots['Email'].unique()"
   ]
  },
  {
   "cell_type": "markdown",
   "id": "26808a12-35dc-4591-bde6-afa193080937",
   "metadata": {},
   "source": [
    "##### Order - har ej bokat tid"
   ]
  },
  {
   "cell_type": "code",
   "execution_count": 21,
   "id": "33c95382-ed85-45fd-9cd8-17ae6ef27ed5",
   "metadata": {},
   "outputs": [
    {
     "data": {
      "text/plain": [
       "array(['anki.windauer@gmx.at', 'elisabeth.ebermann@gmail.com',\n",
       "       'k.hieke@telia.com'], dtype=object)"
      ]
     },
     "execution_count": 21,
     "metadata": {},
     "output_type": "execute_result"
    }
   ],
   "source": [
    "np.setdiff1d(orderEmails, timeSlotEmails)"
   ]
  },
  {
   "cell_type": "markdown",
   "id": "ee35fa9a-9a41-4299-80a6-3b62351eecb8",
   "metadata": {},
   "source": [
    "### Plocklista"
   ]
  },
  {
   "cell_type": "code",
   "execution_count": 22,
   "id": "5e6558f2-9809-4613-b118-d300b3da2dec",
   "metadata": {
    "tags": []
   },
   "outputs": [],
   "source": [
    "from openpyxl import Workbook, load_workbook\n",
    "import shutil\n",
    "from copy import copy"
   ]
  },
  {
   "cell_type": "code",
   "execution_count": 23,
   "id": "d8df5c28-bee5-407b-99d6-fca78d673812",
   "metadata": {
    "tags": []
   },
   "outputs": [],
   "source": [
    "def getFirstCellForNamedRange(workbook, sheet, range_name):\n",
    "    cellNameList = []\n",
    "    firstCellTuple = ()\n",
    "    if range_name in workbook.defined_names:\n",
    "        cellNameList = [(s, c) for s, c in workbook.defined_names[range_name].destinations if (s == sheet.title)]\n",
    "    if cellNameList:\n",
    "        firstCellTuple = cellNameList[0]\n",
    "    return firstCellTuple[1]"
   ]
  },
  {
   "cell_type": "code",
   "execution_count": 24,
   "id": "ec64b72f-ee11-40e1-9a2e-8869a2bd9a54",
   "metadata": {
    "tags": []
   },
   "outputs": [],
   "source": [
    "def fillCellForAttribute(rangeName, workbook, template, sheet, row_offset, value):\n",
    "    templateCellNumber = getFirstCellForNamedRange(workbook, template, rangeName)\n",
    "    targetCellNumber = template[templateCellNumber].offset(row=row_offset).coordinate\n",
    "    sheet[targetCellNumber] = value"
   ]
  },
  {
   "cell_type": "code",
   "execution_count": 25,
   "id": "021ac5cc-5731-4859-acec-f3969d1fd681",
   "metadata": {},
   "outputs": [],
   "source": [
    "def getMergedCellsOrNone(sheet, row, column):\n",
    "    cell = sheet.cell(row, column)\n",
    "    for mergedCell in sheet.merged_cells.ranges:\n",
    "        if (cell.coordinate in mergedCell):\n",
    "            return mergedCell\n",
    "    return None"
   ]
  },
  {
   "cell_type": "code",
   "execution_count": 26,
   "id": "c65c951d-9471-4f67-96c7-c61ac5a321e7",
   "metadata": {},
   "outputs": [],
   "source": [
    "def insertRowAndCopyFormat(template, sheet, source_row, target_row):\n",
    "    sheet.insert_rows(idx=target_row)\n",
    "    sheet.row_dimensions[target_row].height = template.row_dimensions[source_row].height\n",
    "    for col in range(1, 11):\n",
    "        sheet.cell(row=target_row, column=col)._style = template.cell(row=source_row, column=col)._style\n",
    "        mergedCells = getMergedCellsOrNone(template, source_row, col)\n",
    "        if mergedCells is not None and col == mergedCells.bounds[0]:\n",
    "            mergedCellsCopy = copy(mergedCells)\n",
    "            if target_row > source_row:\n",
    "                mergedCellsCopy.shift(row_shift=target_row-source_row)\n",
    "                sheet.merge_cells(range_string=(mergedCellsCopy.coord))"
   ]
  },
  {
   "cell_type": "code",
   "execution_count": 27,
   "id": "5097a4f4-a9ce-4468-8db7-c99bcb0c4ea2",
   "metadata": {},
   "outputs": [],
   "source": [
    "fileNamePackList = 'pack_list.xlsx'\n",
    "fullPathPackListTemplate = BASE_DIR / 'templates' / 'pack_list_template.xlsx'"
   ]
  },
  {
   "cell_type": "code",
   "execution_count": 28,
   "id": "9964680b-8af7-495d-ad80-6f6c800611a0",
   "metadata": {
    "tags": []
   },
   "outputs": [
    {
     "data": {
      "text/plain": [
       "WindowsPath('C:/Users/atw10wp4/Jupyter/Enterprise/SvenskaKyrkan/output_pask/pack_list.xlsx')"
      ]
     },
     "execution_count": 28,
     "metadata": {},
     "output_type": "execute_result"
    }
   ],
   "source": [
    "Path.unlink(BASE_DIR / outputDirectory / fileNamePackList, missing_ok=True)\n",
    "shutil.copyfile(fullPathPackListTemplate, BASE_DIR / outputDirectory / fileNamePackList)"
   ]
  },
  {
   "cell_type": "code",
   "execution_count": 29,
   "id": "dcaa0d33-24f8-41e5-80d1-340d58c85a8d",
   "metadata": {
    "tags": []
   },
   "outputs": [],
   "source": [
    "workbook = load_workbook(filename=BASE_DIR / outputDirectory / fileNamePackList)"
   ]
  },
  {
   "cell_type": "code",
   "execution_count": 30,
   "id": "c2afb4f1-e377-44c6-ab10-681a7a22ef30",
   "metadata": {},
   "outputs": [],
   "source": [
    "template_sheet = workbook['template']"
   ]
  },
  {
   "cell_type": "code",
   "execution_count": 31,
   "id": "46fed46c-050d-4de4-baf5-43b1e2042e58",
   "metadata": {},
   "outputs": [],
   "source": [
    "dfGroupedByOrderNumber = dfAllData.groupby('OrderNumber')"
   ]
  },
  {
   "cell_type": "code",
   "execution_count": 32,
   "id": "567d7d74-7863-4865-8ff0-e1ffca7226d5",
   "metadata": {
    "tags": []
   },
   "outputs": [],
   "source": [
    "articleCell = getFirstCellForNamedRange(workbook, template_sheet, 'ArticleNumber')\n",
    "headerRow = template_sheet[articleCell].row\n",
    "\n",
    "for order, group in dfGroupedByOrderNumber:\n",
    "    new_sheet = workbook.copy_worksheet(template_sheet)\n",
    "    new_sheet.title = 'PO_' + str(order)\n",
    "    for rangeName in ['FullName', 'OrderTotalAmount', 'CustomerNote', 'OrderNumber', 'Telephone', 'PickUpDate', 'PickUpTime']:\n",
    "        fieldValue = group.iloc[0][rangeName]\n",
    "        fillCellForAttribute(rangeName, workbook, template_sheet, new_sheet, 0, fieldValue)\n",
    "    new_sheet.delete_rows(idx=headerRow, amount=2)\n",
    "    dfGroupedByPickUpArea = group.groupby('PickUpArea')\n",
    "    i = 0\n",
    "    d = 0\n",
    "    for area, subGroup in dfGroupedByPickUpArea:\n",
    "        for index, row in subGroup.iterrows():\n",
    "            # index is the (arbitrary) row number and cannot be used instead of i!\n",
    "            insertRowAndCopyFormat(template_sheet, new_sheet, headerRow, headerRow+i)\n",
    "            for rangeName in ['ArticleNumber', 'Quantity', 'ProductName', 'ItemCost', 'PickUpArea']:\n",
    "                fieldValue = row[rangeName]\n",
    "                fillCellForAttribute(rangeName, workbook, template_sheet, new_sheet, i, fieldValue)\n",
    "            i+=1\n",
    "            fillCellForAttribute('RowNumber', workbook, template_sheet, new_sheet, i-1, i-d)\n",
    "        insertRowAndCopyFormat(template_sheet, new_sheet, headerRow+1, headerRow+i)\n",
    "        i+=1\n",
    "        d+=1\n",
    "    for j in range(0,10):\n",
    "        offset = headerRow+i\n",
    "        new_sheet.row_dimensions[offset+j].height = template_sheet.row_dimensions[headerRow+2+j].height\n",
    "    fillCellForAttribute('NumberOfRows', workbook, template_sheet, new_sheet, 0, 'Ant.Orderrader ' + str(i-d))"
   ]
  },
  {
   "cell_type": "code",
   "execution_count": 33,
   "id": "36ea1965-d741-4d32-aa12-2474dfed2ebc",
   "metadata": {},
   "outputs": [],
   "source": [
    "workbook.remove(template_sheet)"
   ]
  },
  {
   "cell_type": "code",
   "execution_count": 34,
   "id": "cb209eca-f2ba-401c-9533-db7b632ae2fe",
   "metadata": {
    "tags": []
   },
   "outputs": [],
   "source": [
    "workbook.save(filename=BASE_DIR / outputDirectory / fileNamePackList)"
   ]
  },
  {
   "cell_type": "markdown",
   "id": "50ed8039-57ae-4845-97e1-80193e3fbb91",
   "metadata": {},
   "source": [
    "### Hämtlista"
   ]
  },
  {
   "cell_type": "code",
   "execution_count": 35,
   "id": "66f0ab86-efab-4e73-9325-9bfa14803b59",
   "metadata": {},
   "outputs": [],
   "source": [
    "from datetime import datetime"
   ]
  },
  {
   "cell_type": "code",
   "execution_count": 36,
   "id": "b2ca4437-2a2d-4e77-aaed-5d30c8d31fc8",
   "metadata": {},
   "outputs": [],
   "source": [
    "weekDayDict = {\n",
    "0: 'Mån',\n",
    "1: 'Tis',\n",
    "2: 'Ons',\n",
    "3: 'Tor',\n",
    "4: 'Fre',\n",
    "5: 'Lör',\n",
    "6: 'Sön'}"
   ]
  },
  {
   "cell_type": "code",
   "execution_count": 37,
   "id": "64a59e44-659c-4534-ba98-4cdc06d6503f",
   "metadata": {},
   "outputs": [],
   "source": [
    "fileNamePickUpList = 'pick_up_list.xlsx'\n",
    "fullPathPickUpTemplate = BASE_DIR / 'templates' / 'pick_up_template.xlsx'"
   ]
  },
  {
   "cell_type": "code",
   "execution_count": 38,
   "id": "8c30d5da-cef2-4f0f-9b04-4eb45502404f",
   "metadata": {
    "tags": []
   },
   "outputs": [
    {
     "data": {
      "text/plain": [
       "WindowsPath('C:/Users/atw10wp4/Jupyter/Enterprise/SvenskaKyrkan/output_pask/pick_up_list.xlsx')"
      ]
     },
     "execution_count": 38,
     "metadata": {},
     "output_type": "execute_result"
    }
   ],
   "source": [
    "Path.unlink(BASE_DIR / outputDirectory / fileNamePickUpList, missing_ok=True)\n",
    "shutil.copyfile(fullPathPickUpTemplate, BASE_DIR / outputDirectory / fileNamePickUpList)"
   ]
  },
  {
   "cell_type": "code",
   "execution_count": 39,
   "id": "a0d573c9-c8e1-4022-9a2d-9b1f85cf7a55",
   "metadata": {
    "tags": []
   },
   "outputs": [],
   "source": [
    "workbook = load_workbook(filename=BASE_DIR / outputDirectory / fileNamePickUpList)"
   ]
  },
  {
   "cell_type": "code",
   "execution_count": 40,
   "id": "f88f8cf7-2847-440b-a372-cc960555bfcf",
   "metadata": {},
   "outputs": [],
   "source": [
    "template_sheet = workbook['template']"
   ]
  },
  {
   "cell_type": "code",
   "execution_count": 41,
   "id": "1f67783e-af9f-4460-9b72-2136876b5724",
   "metadata": {},
   "outputs": [],
   "source": [
    "dfGroupedByPickUpDate = dfAllData.drop_duplicates(subset=['OrderNumber']).groupby('PickUpDate')"
   ]
  },
  {
   "cell_type": "code",
   "execution_count": 42,
   "id": "7bdc2637-dcb8-4c3e-b605-142e5fb67846",
   "metadata": {
    "tags": []
   },
   "outputs": [],
   "source": [
    "pickUpTimeCell = getFirstCellForNamedRange(workbook, template_sheet, 'PickUpTime')\n",
    "orderNumberCol = template_sheet[pickUpTimeCell].column\n",
    "\n",
    "for ts, group in dfGroupedByPickUpDate:\n",
    "    new_sheet = workbook.copy_worksheet(template_sheet)\n",
    "    new_sheet.title = 'Hämtas ' + str(ts.date())\n",
    "    fillCellForAttribute('Weekday', workbook, template_sheet, new_sheet, 0, weekDayDict[ts.weekday()])\n",
    "    fillCellForAttribute('PickUpDate', workbook, template_sheet, new_sheet, 0, ts.date())\n",
    "    fillCellForAttribute('CreationDateTime', workbook, template_sheet, new_sheet, 0, str(datetime.now()))\n",
    "    headerRow = template_sheet[pickUpTimeCell].row\n",
    "    new_sheet.delete_rows(idx=headerRow, amount=2)\n",
    "    dfGroupedByPickUpTime = group.groupby('PickUpTime')\n",
    "    i = 0\n",
    "    d = 0\n",
    "    for time, subGroup in dfGroupedByPickUpTime:\n",
    "        insertRowAndCopyFormat(template_sheet, new_sheet, headerRow, headerRow+i)\n",
    "        fillCellForAttribute('PickUpTime', workbook, template_sheet, new_sheet, i, time)\n",
    "        i+=1\n",
    "        d+=1\n",
    "        for index, row in subGroup.iterrows():\n",
    "            insertRowAndCopyFormat(template_sheet, new_sheet, headerRow+1, headerRow+i)\n",
    "            for rangeName in ['OrderNumber', 'FullName', 'Telephone', 'OrderTotalAmount', 'CustomerNote']:\n",
    "                fieldValue = row[rangeName]\n",
    "                fillCellForAttribute(rangeName, workbook, template_sheet, new_sheet, i-1, fieldValue)\n",
    "            i+=1\n",
    "            fillCellForAttribute('RowNumber', workbook, template_sheet, new_sheet, i-2, i-d)"
   ]
  },
  {
   "cell_type": "code",
   "execution_count": 43,
   "id": "0f1d33e0-4bc8-478f-8faf-d33b38878434",
   "metadata": {
    "tags": []
   },
   "outputs": [],
   "source": [
    "workbook.remove(template_sheet)"
   ]
  },
  {
   "cell_type": "code",
   "execution_count": 44,
   "id": "3bc25974-f747-4a73-8855-5d32e56a6b88",
   "metadata": {
    "tags": []
   },
   "outputs": [],
   "source": [
    "workbook.save(filename=BASE_DIR / outputDirectory / fileNamePickUpList)"
   ]
  },
  {
   "cell_type": "markdown",
   "id": "7b60dfcd-31ee-4902-9162-f54e42588894",
   "metadata": {},
   "source": [
    "### Masterlista"
   ]
  },
  {
   "cell_type": "code",
   "execution_count": 45,
   "id": "dfa51187-b783-40d3-83e6-712f661496d3",
   "metadata": {
    "tags": []
   },
   "outputs": [
    {
     "ename": "KeyError",
     "evalue": "\"['InfoOK'] not in index\"",
     "output_type": "error",
     "traceback": [
      "\u001b[1;31m---------------------------------------------------------------------------\u001b[0m",
      "\u001b[1;31mKeyError\u001b[0m                                  Traceback (most recent call last)",
      "\u001b[1;32m~\\AppData\\Local\\Temp/ipykernel_5144/412502075.py\u001b[0m in \u001b[0;36m<module>\u001b[1;34m\u001b[0m\n\u001b[1;32m----> 1\u001b[1;33m dfMasterList = dfAllData[['OrderNumber', 'FullName', 'Email', 'OrderTotalAmount', 'OrderDate', \n\u001b[0m\u001b[0;32m      2\u001b[0m               'OrderStatus', 'Telephone', 'CustomerNote', 'InfoOK', 'PickUpDate', 'PickUpTime']]\n",
      "\u001b[1;32mC:\\JupyterLab\\resources\\jlab_server\\lib\\site-packages\\pandas\\core\\frame.py\u001b[0m in \u001b[0;36m__getitem__\u001b[1;34m(self, key)\u001b[0m\n\u001b[0;32m   3462\u001b[0m             \u001b[1;32mif\u001b[0m \u001b[0mis_iterator\u001b[0m\u001b[1;33m(\u001b[0m\u001b[0mkey\u001b[0m\u001b[1;33m)\u001b[0m\u001b[1;33m:\u001b[0m\u001b[1;33m\u001b[0m\u001b[1;33m\u001b[0m\u001b[0m\n\u001b[0;32m   3463\u001b[0m                 \u001b[0mkey\u001b[0m \u001b[1;33m=\u001b[0m \u001b[0mlist\u001b[0m\u001b[1;33m(\u001b[0m\u001b[0mkey\u001b[0m\u001b[1;33m)\u001b[0m\u001b[1;33m\u001b[0m\u001b[1;33m\u001b[0m\u001b[0m\n\u001b[1;32m-> 3464\u001b[1;33m             \u001b[0mindexer\u001b[0m \u001b[1;33m=\u001b[0m \u001b[0mself\u001b[0m\u001b[1;33m.\u001b[0m\u001b[0mloc\u001b[0m\u001b[1;33m.\u001b[0m\u001b[0m_get_listlike_indexer\u001b[0m\u001b[1;33m(\u001b[0m\u001b[0mkey\u001b[0m\u001b[1;33m,\u001b[0m \u001b[0maxis\u001b[0m\u001b[1;33m=\u001b[0m\u001b[1;36m1\u001b[0m\u001b[1;33m)\u001b[0m\u001b[1;33m[\u001b[0m\u001b[1;36m1\u001b[0m\u001b[1;33m]\u001b[0m\u001b[1;33m\u001b[0m\u001b[1;33m\u001b[0m\u001b[0m\n\u001b[0m\u001b[0;32m   3465\u001b[0m \u001b[1;33m\u001b[0m\u001b[0m\n\u001b[0;32m   3466\u001b[0m         \u001b[1;31m# take() does not accept boolean indexers\u001b[0m\u001b[1;33m\u001b[0m\u001b[1;33m\u001b[0m\u001b[1;33m\u001b[0m\u001b[0m\n",
      "\u001b[1;32mC:\\JupyterLab\\resources\\jlab_server\\lib\\site-packages\\pandas\\core\\indexing.py\u001b[0m in \u001b[0;36m_get_listlike_indexer\u001b[1;34m(self, key, axis)\u001b[0m\n\u001b[0;32m   1312\u001b[0m             \u001b[0mkeyarr\u001b[0m\u001b[1;33m,\u001b[0m \u001b[0mindexer\u001b[0m\u001b[1;33m,\u001b[0m \u001b[0mnew_indexer\u001b[0m \u001b[1;33m=\u001b[0m \u001b[0max\u001b[0m\u001b[1;33m.\u001b[0m\u001b[0m_reindex_non_unique\u001b[0m\u001b[1;33m(\u001b[0m\u001b[0mkeyarr\u001b[0m\u001b[1;33m)\u001b[0m\u001b[1;33m\u001b[0m\u001b[1;33m\u001b[0m\u001b[0m\n\u001b[0;32m   1313\u001b[0m \u001b[1;33m\u001b[0m\u001b[0m\n\u001b[1;32m-> 1314\u001b[1;33m         \u001b[0mself\u001b[0m\u001b[1;33m.\u001b[0m\u001b[0m_validate_read_indexer\u001b[0m\u001b[1;33m(\u001b[0m\u001b[0mkeyarr\u001b[0m\u001b[1;33m,\u001b[0m \u001b[0mindexer\u001b[0m\u001b[1;33m,\u001b[0m \u001b[0maxis\u001b[0m\u001b[1;33m)\u001b[0m\u001b[1;33m\u001b[0m\u001b[1;33m\u001b[0m\u001b[0m\n\u001b[0m\u001b[0;32m   1315\u001b[0m \u001b[1;33m\u001b[0m\u001b[0m\n\u001b[0;32m   1316\u001b[0m         if needs_i8_conversion(ax.dtype) or isinstance(\n",
      "\u001b[1;32mC:\\JupyterLab\\resources\\jlab_server\\lib\\site-packages\\pandas\\core\\indexing.py\u001b[0m in \u001b[0;36m_validate_read_indexer\u001b[1;34m(self, key, indexer, axis)\u001b[0m\n\u001b[0;32m   1375\u001b[0m \u001b[1;33m\u001b[0m\u001b[0m\n\u001b[0;32m   1376\u001b[0m             \u001b[0mnot_found\u001b[0m \u001b[1;33m=\u001b[0m \u001b[0mlist\u001b[0m\u001b[1;33m(\u001b[0m\u001b[0mensure_index\u001b[0m\u001b[1;33m(\u001b[0m\u001b[0mkey\u001b[0m\u001b[1;33m)\u001b[0m\u001b[1;33m[\u001b[0m\u001b[0mmissing_mask\u001b[0m\u001b[1;33m.\u001b[0m\u001b[0mnonzero\u001b[0m\u001b[1;33m(\u001b[0m\u001b[1;33m)\u001b[0m\u001b[1;33m[\u001b[0m\u001b[1;36m0\u001b[0m\u001b[1;33m]\u001b[0m\u001b[1;33m]\u001b[0m\u001b[1;33m.\u001b[0m\u001b[0munique\u001b[0m\u001b[1;33m(\u001b[0m\u001b[1;33m)\u001b[0m\u001b[1;33m)\u001b[0m\u001b[1;33m\u001b[0m\u001b[1;33m\u001b[0m\u001b[0m\n\u001b[1;32m-> 1377\u001b[1;33m             \u001b[1;32mraise\u001b[0m \u001b[0mKeyError\u001b[0m\u001b[1;33m(\u001b[0m\u001b[1;34mf\"{not_found} not in index\"\u001b[0m\u001b[1;33m)\u001b[0m\u001b[1;33m\u001b[0m\u001b[1;33m\u001b[0m\u001b[0m\n\u001b[0m\u001b[0;32m   1378\u001b[0m \u001b[1;33m\u001b[0m\u001b[0m\n\u001b[0;32m   1379\u001b[0m \u001b[1;33m\u001b[0m\u001b[0m\n",
      "\u001b[1;31mKeyError\u001b[0m: \"['InfoOK'] not in index\""
     ]
    }
   ],
   "source": [
    "dfMasterList = dfAllData[['OrderNumber', 'FullName', 'Email', 'OrderTotalAmount', 'OrderDate', \n",
    "              'OrderStatus', 'Telephone', 'CustomerNote', 'InfoOK', 'PickUpDate', 'PickUpTime']]"
   ]
  },
  {
   "cell_type": "code",
   "execution_count": null,
   "id": "9f5ab79a-a6d2-47de-bceb-8660d482afdc",
   "metadata": {},
   "outputs": [],
   "source": [
    "dfMasterList.columns = ['Order Number', 'Full Name (Billing)', 'Email (Billing)', 'Order Total Amount', 'Order Date', \n",
    "              'Order Status', 'Telephone', 'Customer Note', 'Info ok', 'Hämtningsdag', 'Hämtning Tid']"
   ]
  },
  {
   "cell_type": "code",
   "execution_count": null,
   "id": "086e876c-9fb1-428d-9449-bacea72cc8ef",
   "metadata": {},
   "outputs": [],
   "source": [
    "dfMasterList = dfMasterList.drop_duplicates()"
   ]
  },
  {
   "cell_type": "code",
   "execution_count": null,
   "id": "6fdc3173-71c1-4442-8731-a350b8d0f7f2",
   "metadata": {
    "tags": []
   },
   "outputs": [],
   "source": [
    "dfMasterList.to_excel(BASE_DIR / outputDirectory / fileNameMasterList)"
   ]
  },
  {
   "cell_type": "code",
   "execution_count": null,
   "id": "32514ee6-d8c4-403f-bc8c-0d7263945cfe",
   "metadata": {},
   "outputs": [],
   "source": []
  }
 ],
 "metadata": {
  "kernelspec": {
   "display_name": "Python 3 (ipykernel)",
   "language": "python",
   "name": "python3"
  },
  "language_info": {
   "codemirror_mode": {
    "name": "ipython",
    "version": 3
   },
   "file_extension": ".py",
   "mimetype": "text/x-python",
   "name": "python",
   "nbconvert_exporter": "python",
   "pygments_lexer": "ipython3",
   "version": "3.8.12"
  }
 },
 "nbformat": 4,
 "nbformat_minor": 5
}

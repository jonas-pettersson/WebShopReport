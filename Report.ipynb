{
 "cells": [
  {
   "cell_type": "markdown",
   "id": "c59d294c-a919-4cf6-90b1-20912e17459f",
   "metadata": {},
   "source": [
    "# Generate Documents - Svenska Kyrkan i Wien"
   ]
  },
  {
   "cell_type": "code",
   "execution_count": null,
   "id": "ca8005c5-97c6-4c2c-b6a4-37b404da537b",
   "metadata": {
    "tags": []
   },
   "outputs": [],
   "source": [
    "# import sys\n",
    "# !python -m pip install openpyxl"
   ]
  },
  {
   "cell_type": "code",
   "execution_count": null,
   "id": "3d21f948-7e98-4451-ac40-2ca492e858d7",
   "metadata": {},
   "outputs": [],
   "source": [
    "# pd.set_option('display.max_rows', 100)"
   ]
  },
  {
   "cell_type": "code",
   "execution_count": null,
   "id": "695fd8c4-ab01-4539-a23e-3655edf57b0b",
   "metadata": {},
   "outputs": [],
   "source": [
    "import pandas as pd\n",
    "import numpy as np\n",
    "from pathlib import Path"
   ]
  },
  {
   "cell_type": "code",
   "execution_count": null,
   "id": "81cc33b3-a916-43ce-94c0-189ea0fa5a8b",
   "metadata": {},
   "outputs": [],
   "source": [
    "from openpyxl import Workbook, load_workbook\n",
    "import shutil\n",
    "from copy import copy"
   ]
  },
  {
   "cell_type": "code",
   "execution_count": null,
   "id": "9cc39ebc-19ad-4895-b928-3fc126f7b97c",
   "metadata": {},
   "outputs": [],
   "source": [
    "from datetime import datetime"
   ]
  },
  {
   "cell_type": "code",
   "execution_count": null,
   "id": "127d5c73-6db1-416d-b60b-8403a0da43ef",
   "metadata": {},
   "outputs": [],
   "source": [
    "BASE_DIR = Path.cwd()\n",
    "print(BASE_DIR)"
   ]
  },
  {
   "cell_type": "markdown",
   "id": "1fa96708-6e42-45ea-ad18-69775c14bb31",
   "metadata": {},
   "source": [
    "### Filnamn"
   ]
  },
  {
   "cell_type": "markdown",
   "id": "fcf79a30-d759-46c1-be98-50e15b8ee8fd",
   "metadata": {},
   "source": [
    "Här kan man ändra namnen på alla filer och tabellblad för data som läses in ock skrivs ut"
   ]
  },
  {
   "cell_type": "code",
   "execution_count": null,
   "id": "94e91a79-d866-461e-b02c-a6b08a429ebf",
   "metadata": {},
   "outputs": [],
   "source": [
    "inputDirectory = 'input_pask'\n",
    "outputDirectory = 'output_pask'\n",
    "templateDirectory = 'templates'\n",
    "\n",
    "# Inputs\n",
    "fileNameProducts = 'wc-product-export.csv'\n",
    "fileNameOrders = 'orders.xlsx'\n",
    "fileNameTimeslots = 'tidsbokning.csv'\n",
    "fileNameProductList = 'product_list.xlsx'\n",
    "sheetNamePackingCategories = 'packningskategorier'\n",
    "fileNameSchedule = 'schedule.xlsx'\n",
    "\n",
    "# Outputs\n",
    "fileNamePackList = 'pack_list.xlsx'\n",
    "fileNamePickUpList = 'pick_up_list.xlsx'\n",
    "fileNameSemleList = 'semlelista.xlsx'\n",
    "fileNameMasterList = 'masterlista.xlsx'\n",
    "fileNameDiffs = 'diffs.xlsx'\n",
    "fileNameAllData = 'allData.xlsx'\n",
    "fileNameTimeslotsOutput = 'tidsbokning.xlsx'\n",
    "\n",
    "# Templates\n",
    "fileNamePackListTemplate = 'pack_list_template.xlsx'\n",
    "fileNamePickUpListTemplate = 'pick_up_template.xlsx'\n",
    "fileNameSemleListTemplate = 'semlelist_template.xlsx'"
   ]
  },
  {
   "cell_type": "markdown",
   "id": "03a82194-78c1-43f5-a6bd-9ee4bd309e2b",
   "metadata": {},
   "source": [
    "### Read and Format Data"
   ]
  },
  {
   "cell_type": "code",
   "execution_count": null,
   "id": "ea61488c-746c-42a1-9f71-d9f53bf4b9a0",
   "metadata": {},
   "outputs": [],
   "source": [
    "dfProducts = pd.read_csv(BASE_DIR / inputDirectory / fileNameProducts)"
   ]
  },
  {
   "cell_type": "markdown",
   "id": "79ca5a86-4cbe-4708-8ab2-f33699f99ca4",
   "metadata": {},
   "source": [
    "Harmonisera namnen mellan julbasar och påskbasar"
   ]
  },
  {
   "cell_type": "code",
   "execution_count": null,
   "id": "8e0453df-312a-4d34-ab56-24e5fa4575f0",
   "metadata": {},
   "outputs": [],
   "source": [
    "if 'Artikelnummer' in dfProducts.columns:\n",
    "    dfProducts.rename(columns={'Artikelnummer':'SKU'}, inplace=True)\n",
    "    \n",
    "if 'Typ' in dfProducts.columns:\n",
    "    dfProducts.rename(columns={'Typ':'Type'}, inplace=True)\n",
    "    \n",
    "if 'Regulärer Preis' in dfProducts.columns:\n",
    "    dfProducts.rename(columns={'Regulärer Preis':'Regular price'}, inplace=True)"
   ]
  },
  {
   "cell_type": "code",
   "execution_count": null,
   "id": "6f4ed3d2-5ea3-46dc-abd3-80b9d77e2a70",
   "metadata": {},
   "outputs": [],
   "source": [
    "dfOrders = pd.read_excel(str(BASE_DIR / inputDirectory / fileNameOrders))"
   ]
  },
  {
   "cell_type": "markdown",
   "id": "2d5731e0-f6b8-48df-ad71-87ea4b83d55b",
   "metadata": {},
   "source": [
    "Harmonisera namnen mellan julbasar och påskbasar"
   ]
  },
  {
   "cell_type": "code",
   "execution_count": null,
   "id": "fbfc947c-6559-4b64-81a2-5cb32948f086",
   "metadata": {},
   "outputs": [],
   "source": [
    "if 'E-Mail-Adresse' in dfOrders.columns:\n",
    "    dfOrders.rename(columns={'E-Mail-Adresse':'Email (Billing)'}, inplace=True)\n",
    "    \n",
    "if 'Telefon' in dfOrders.columns:\n",
    "    dfOrders.rename(columns={'Telefon':'Telephone'}, inplace=True)\n",
    "    \n",
    "if 'Phone (Billing)' in dfOrders.columns:\n",
    "    dfOrders.rename(columns={'Phone (Billing)':'Telephone'}, inplace=True)\n",
    "    \n",
    "if 'Info_OK' in dfOrders.columns:\n",
    "    dfOrders.rename(columns={'Info_OK':'Info'}, inplace=True)"
   ]
  },
  {
   "cell_type": "code",
   "execution_count": null,
   "id": "df20fa3c-87b4-4285-81bb-0742cce1ba8c",
   "metadata": {},
   "outputs": [],
   "source": [
    "dfTimeslots = pd.read_csv(BASE_DIR / inputDirectory / fileNameTimeslots, index_col=False,\n",
    "                         parse_dates=['Time', 'app_date_1', 'app_datetime_1'], dayfirst=True)\n",
    "#encoding='latin_1'"
   ]
  },
  {
   "cell_type": "code",
   "execution_count": null,
   "id": "5d002d4e-a610-4c65-88ee-3e967bcd9160",
   "metadata": {},
   "outputs": [],
   "source": [
    "# Timeslot list has a lot of peculiarities\n",
    "dfTimeslots['Name:'] = dfTimeslots['Telefon']\n",
    "dfTimeslots['Telefon'] = dfTimeslots['Unnamed: 21']\n",
    "dfTimeslots.drop(columns='Unnamed: 21', inplace=True)"
   ]
  },
  {
   "cell_type": "code",
   "execution_count": null,
   "id": "ad819b8d-c0e2-4c6b-995d-79d43ec17b6a",
   "metadata": {},
   "outputs": [],
   "source": [
    "# change pick-up time from string to real time format\n",
    "dfTimeslots['app_slot_1'] = dfTimeslots['app_datetime_1'].transform(lambda x: x.time())"
   ]
  },
  {
   "cell_type": "code",
   "execution_count": null,
   "id": "9884724b-9d70-4f97-962e-c9156fb13bd9",
   "metadata": {},
   "outputs": [],
   "source": [
    "dfPackingCategories = pd.read_excel(str(BASE_DIR / inputDirectory / fileNameProductList), sheet_name=sheetNamePackingCategories)"
   ]
  },
  {
   "cell_type": "code",
   "execution_count": null,
   "id": "30778f7d-9025-4b7e-ad19-aae1c85304b2",
   "metadata": {},
   "outputs": [],
   "source": [
    "dfSchedule = pd.read_excel(str(BASE_DIR / inputDirectory / fileNameSchedule))"
   ]
  },
  {
   "cell_type": "markdown",
   "id": "5a614b75-3370-4648-9b20-b40da0bb8b0c",
   "metadata": {},
   "source": [
    "Skapa en extra spalter med date och datetime från dag och tid"
   ]
  },
  {
   "cell_type": "code",
   "execution_count": null,
   "id": "bef22179-77be-4f76-a925-28a1d9c1d8b7",
   "metadata": {},
   "outputs": [],
   "source": [
    "dfSchedule['Date'] = dfSchedule['Dag'].transform(lambda x: x.date())"
   ]
  },
  {
   "cell_type": "code",
   "execution_count": null,
   "id": "f6791307-3726-40fd-a82b-cc6e67d30438",
   "metadata": {
    "tags": []
   },
   "outputs": [],
   "source": [
    "dfSchedule['DateTime'] = [datetime.combine(d, t) for d, t in zip(dfSchedule['Dag'], dfSchedule['Tid'])]"
   ]
  },
  {
   "cell_type": "markdown",
   "id": "2fe93147-5844-4fc1-855b-e9ff3e317624",
   "metadata": {},
   "source": [
    "**Re-Exportera Timeslots**"
   ]
  },
  {
   "cell_type": "code",
   "execution_count": null,
   "id": "ea2a1b4b-d875-4d35-b7a6-e2dfa7785b7a",
   "metadata": {},
   "outputs": [],
   "source": [
    "dfTimeslots.to_excel(BASE_DIR / outputDirectory / fileNameTimeslotsOutput)"
   ]
  },
  {
   "cell_type": "markdown",
   "id": "ba839b50-f839-48d0-9c64-7ea1fa0ce485",
   "metadata": {
    "tags": []
   },
   "source": [
    "### Diffs"
   ]
  },
  {
   "cell_type": "code",
   "execution_count": null,
   "id": "83e38f07-caef-42f5-9af0-9fc6150e7de2",
   "metadata": {},
   "outputs": [],
   "source": [
    "def alignCellWidthFor(sheet):\n",
    "    dims = {}\n",
    "    for row in sheet.rows:\n",
    "        for cell in row:\n",
    "            if cell.value:\n",
    "                dims[cell.column_letter] = max((dims.get(cell.column_letter, 0), len(str(cell.value))))    \n",
    "    for col, value in dims.items():\n",
    "        sheet.column_dimensions[col].width = value * 1.23"
   ]
  },
  {
   "cell_type": "code",
   "execution_count": null,
   "id": "98d4c995-d8c2-466a-931b-87e534dac852",
   "metadata": {},
   "outputs": [],
   "source": [
    "Path.unlink(BASE_DIR / outputDirectory / fileNameDiffs, missing_ok=True)"
   ]
  },
  {
   "cell_type": "markdown",
   "id": "26808a12-35dc-4591-bde6-afa193080937",
   "metadata": {},
   "source": [
    "**Har gett order men har ej bokat tid**"
   ]
  },
  {
   "cell_type": "code",
   "execution_count": null,
   "id": "6c0e333c-7b17-4eb6-8a9a-8c0ad316da5c",
   "metadata": {},
   "outputs": [],
   "source": [
    "orderEmails = dfOrders['Email (Billing)'].unique()"
   ]
  },
  {
   "cell_type": "code",
   "execution_count": null,
   "id": "0f599c14-e6be-4418-869e-60c2ef33ae33",
   "metadata": {},
   "outputs": [],
   "source": [
    "timeSlotEmails = dfTimeslots['Email'].unique()"
   ]
  },
  {
   "cell_type": "code",
   "execution_count": null,
   "id": "5ec14586-50d2-4977-85fd-2b7414e218c2",
   "metadata": {},
   "outputs": [],
   "source": [
    "diffEmails = np.setdiff1d(orderEmails, timeSlotEmails)\n",
    "dfOrderButNoTimeBooked = dfOrders[dfOrders['Email (Billing)'].isin(diffEmails)].drop_duplicates(subset=['Order Number'])[['Order Number', 'Full Name (Billing)', 'Email (Billing)',\n",
    "       'Order Total Amount', 'Order Total Amount (- Refund)', 'Order Date', 'Customer Note', 'Telephone']]"
   ]
  },
  {
   "cell_type": "code",
   "execution_count": null,
   "id": "19ab7b17-9e35-40a3-8e87-0c9679632013",
   "metadata": {},
   "outputs": [],
   "source": [
    "dfOrderButNoTimeBooked.to_excel(BASE_DIR / outputDirectory / fileNameDiffs, sheet_name='Vi har inte bokat')"
   ]
  },
  {
   "cell_type": "code",
   "execution_count": null,
   "id": "54541eab-7009-431a-9e25-b785465a2e1e",
   "metadata": {},
   "outputs": [],
   "source": [
    "workbook = load_workbook(filename=BASE_DIR / outputDirectory / fileNameDiffs)\n",
    "sheet = workbook['Vi har inte bokat']\n",
    "alignCellWidthFor(sheet)\n",
    "workbook.save(filename=BASE_DIR / outputDirectory / fileNameDiffs)"
   ]
  },
  {
   "cell_type": "markdown",
   "id": "27e2efda-ee85-4b15-9588-7a09e439f542",
   "metadata": {},
   "source": [
    "**Dubbla tidsbokningar**"
   ]
  },
  {
   "cell_type": "code",
   "execution_count": null,
   "id": "d820cdeb-5ede-436c-9e60-f70e95b94db1",
   "metadata": {},
   "outputs": [],
   "source": [
    "emailCounts = dfTimeslots['Email'].value_counts()\n",
    "dfMoreThanOneBookings = dfTimeslots[dfTimeslots['Email'].isin(emailCounts.index[emailCounts.gt(1)])].sort_values(by=['Email', 'app_date_1', 'app_slot_1'])\n",
    "dfMoreThanOneBookings = dfMoreThanOneBookings[['Email', 'app_date_1', 'app_slot_1', 'Name:', 'Telefon', 'app_status_1']]"
   ]
  },
  {
   "cell_type": "code",
   "execution_count": null,
   "id": "15b51957-faa5-4aaa-b792-5ac84a19a88d",
   "metadata": {},
   "outputs": [],
   "source": [
    "with pd.ExcelWriter(BASE_DIR / outputDirectory / fileNameDiffs,\n",
    "                    mode='a') as writer:  \n",
    "    dfMoreThanOneBookings.to_excel(writer, sheet_name='Dubbla tidsbokningar')"
   ]
  },
  {
   "cell_type": "code",
   "execution_count": null,
   "id": "e93f0727-c91c-4b61-9a04-116f7ca32ef0",
   "metadata": {},
   "outputs": [],
   "source": [
    "workbook = load_workbook(filename=BASE_DIR / outputDirectory / fileNameDiffs)\n",
    "sheet = workbook['Dubbla tidsbokningar']\n",
    "alignCellWidthFor(sheet)\n",
    "workbook.save(filename=BASE_DIR / outputDirectory / fileNameDiffs)"
   ]
  },
  {
   "cell_type": "code",
   "execution_count": null,
   "id": "18415432-79d8-43fd-b523-c3d16bc29113",
   "metadata": {},
   "outputs": [],
   "source": [
    "# after reporting, we remove the duplicates\n",
    "dfTimeslots.drop_duplicates(subset=['Email'], inplace=True)"
   ]
  },
  {
   "cell_type": "markdown",
   "id": "310259b8-b6e8-4c31-bb2a-7a049bb8d218",
   "metadata": {},
   "source": [
    "**Artikel saknas i produktplaceringslista**"
   ]
  },
  {
   "cell_type": "code",
   "execution_count": null,
   "id": "fa2f28bb-22c2-4ec8-9308-94a206af49f3",
   "metadata": {},
   "outputs": [],
   "source": [
    "orderSKUs = dfOrders['SKU'].unique()"
   ]
  },
  {
   "cell_type": "code",
   "execution_count": null,
   "id": "493b5669-bbff-4173-802e-026441050686",
   "metadata": {
    "tags": []
   },
   "outputs": [],
   "source": [
    "produktListaArtiklar = dfProducts['SKU'].unique()"
   ]
  },
  {
   "cell_type": "code",
   "execution_count": null,
   "id": "d9448d31-1da5-47b1-8b40-9522451db8ff",
   "metadata": {},
   "outputs": [],
   "source": [
    "skuDiff = np.setdiff1d(orderSKUs, produktListaArtiklar)"
   ]
  },
  {
   "cell_type": "code",
   "execution_count": null,
   "id": "6804402c-b931-49ed-a1df-dd29f551a594",
   "metadata": {},
   "outputs": [],
   "source": [
    "missingProducts = dfOrders[dfOrders['SKU'].isin(skuDiff)][['SKU', 'Product Name']].drop_duplicates(subset=['SKU']).sort_values(by='SKU')\n",
    "print(len(missingProducts))"
   ]
  },
  {
   "cell_type": "code",
   "execution_count": null,
   "id": "e7ee5404-a121-470b-93bf-916dbf57edd6",
   "metadata": {},
   "outputs": [],
   "source": [
    "with pd.ExcelWriter(BASE_DIR / outputDirectory / fileNameDiffs,\n",
    "                    mode='a') as writer:  \n",
    "    missingProducts.to_excel(writer, sheet_name='Saknas i produktlista')"
   ]
  },
  {
   "cell_type": "code",
   "execution_count": null,
   "id": "633b9275-5ef4-42ff-9cd6-2c43b04f2a95",
   "metadata": {},
   "outputs": [],
   "source": [
    "workbook = load_workbook(filename=BASE_DIR / outputDirectory / fileNameDiffs)\n",
    "sheet = workbook['Saknas i produktlista']\n",
    "alignCellWidthFor(sheet)\n",
    "workbook.save(filename=BASE_DIR / outputDirectory / fileNameDiffs)"
   ]
  },
  {
   "cell_type": "markdown",
   "id": "cfa18258-7db2-4169-8857-3e8bd933e6a0",
   "metadata": {
    "tags": []
   },
   "source": [
    "### Merge and Select Data"
   ]
  },
  {
   "cell_type": "code",
   "execution_count": null,
   "id": "401b49cf-8b28-46ac-870e-2f4ef50fc91e",
   "metadata": {},
   "outputs": [],
   "source": [
    "# Merge orders with timeslots\n",
    "dfAllData = pd.merge(dfOrders, dfTimeslots, left_on='Email (Billing)', right_on='Email')"
   ]
  },
  {
   "cell_type": "code",
   "execution_count": null,
   "id": "ed3681b4-f29b-4186-bf5c-c7ee5c0fb5d0",
   "metadata": {},
   "outputs": [],
   "source": [
    "# Merge with products\n",
    "dfAllData = pd.merge(dfAllData, dfProducts, on='SKU')"
   ]
  },
  {
   "cell_type": "code",
   "execution_count": null,
   "id": "5f9e6cba-e1e6-482a-a513-715d8acef2d4",
   "metadata": {},
   "outputs": [],
   "source": [
    "# Merge with product placements\n",
    "# dfAllData = pd.merge(dfAllData, dfProductList, left_on='SKU', right_on='Artikelnummer', suffixes=[None, '_y'])"
   ]
  },
  {
   "cell_type": "code",
   "execution_count": null,
   "id": "ece627a3-2014-4771-903a-7d1944f894ea",
   "metadata": {},
   "outputs": [],
   "source": [
    "dfAllData = pd.merge(dfAllData, dfPackingCategories, left_on='pa_packn_kategori', right_on='Packningskategori')"
   ]
  },
  {
   "cell_type": "code",
   "execution_count": null,
   "id": "01880683-4816-44e0-be1b-afa95bfc7113",
   "metadata": {
    "tags": []
   },
   "outputs": [],
   "source": [
    "# Fields with data\n",
    "dfAllData = dfAllData[['Order Number', 'Full Name (Billing)', 'Email (Billing)',\n",
    "                       'Order Total Amount (- Refund)', 'Order Date', 'Customer Note',\n",
    "                       'Telephone', 'Quantity (- Refund)', 'Product Name', 'Item Cost (inc. tax)',\n",
    "                       'Item #', 'Info', 'Time', 'app_date_1', 'app_slot_1', 'app_datetime_1',\n",
    "                       'Type', 'SKU', 'Short description', 'Name',  'Regular price',\n",
    "                       'Packningskategori', 'info till Packlistan']]"
   ]
  },
  {
   "cell_type": "code",
   "execution_count": null,
   "id": "eaedc127-83b8-4988-bbe6-c84d23509be7",
   "metadata": {},
   "outputs": [],
   "source": [
    "# Standardized column namings\n",
    "dfAllData.columns = ['OrderNumber', 'FullName', 'Email',\n",
    "                     'OrderTotalAmount', 'OrderDate', 'CustomerNote',\n",
    "                     'Telephone', 'Quantity', 'ProductName', 'ItemCost',\n",
    "                     'ItemID', 'Info', 'OrderTime', 'PickUpDate', 'PickUpTime', 'PickUpDateTime',\n",
    "                     'Type', 'ArticleNumber', 'ProductNameDE',\n",
    "                     'Description', 'RegularPrice',\n",
    "                     'PackingCategory', 'PickUpArea']"
   ]
  },
  {
   "cell_type": "code",
   "execution_count": null,
   "id": "853328c6-0564-4bd4-a0af-b9738afe2e9c",
   "metadata": {
    "tags": []
   },
   "outputs": [],
   "source": [
    "# Selection of relevant data and more logical sorting of columns\n",
    "dfAllData = dfAllData[['OrderNumber', 'OrderDate', 'OrderTime', \n",
    "                       'FullName', 'Email', 'Telephone', 'CustomerNote',\n",
    "                       'ItemID', 'Info', 'Type', 'ArticleNumber', 'ProductName', 'ProductNameDE',\n",
    "                       'Quantity',  'ItemCost', 'OrderTotalAmount', 'RegularPrice', \n",
    "                       'PickUpDate', 'PickUpTime', 'PickUpDateTime',\n",
    "                       'PackingCategory', 'PickUpArea']]"
   ]
  },
  {
   "cell_type": "code",
   "execution_count": null,
   "id": "909e2764-452c-4a12-b2a8-84e7165ede12",
   "metadata": {},
   "outputs": [],
   "source": [
    "dfAllData.to_excel(BASE_DIR / outputDirectory / fileNameAllData)"
   ]
  },
  {
   "cell_type": "markdown",
   "id": "ee35fa9a-9a41-4299-80a6-3b62351eecb8",
   "metadata": {},
   "source": [
    "### Plocklista"
   ]
  },
  {
   "cell_type": "code",
   "execution_count": null,
   "id": "d8df5c28-bee5-407b-99d6-fca78d673812",
   "metadata": {
    "tags": []
   },
   "outputs": [],
   "source": [
    "def getFirstCellForNamedRange(workbook, sheet, range_name):\n",
    "    cellNameList = []\n",
    "    firstCellTuple = ()\n",
    "    if range_name in workbook.defined_names:\n",
    "        cellNameList = [(s, c) for s, c in workbook.defined_names[range_name].destinations if (s == sheet.title)]\n",
    "    if cellNameList:\n",
    "        firstCellTuple = cellNameList[0]\n",
    "    return firstCellTuple[1]"
   ]
  },
  {
   "cell_type": "code",
   "execution_count": null,
   "id": "ec64b72f-ee11-40e1-9a2e-8869a2bd9a54",
   "metadata": {
    "tags": []
   },
   "outputs": [],
   "source": [
    "def fillCellForAttribute(rangeName, workbook, template, sheet, row_offset, value):\n",
    "    templateCellNumber = getFirstCellForNamedRange(workbook, template, rangeName)\n",
    "    targetCellNumber = template[templateCellNumber].offset(row=row_offset).coordinate\n",
    "    sheet[targetCellNumber] = value"
   ]
  },
  {
   "cell_type": "code",
   "execution_count": null,
   "id": "021ac5cc-5731-4859-acec-f3969d1fd681",
   "metadata": {},
   "outputs": [],
   "source": [
    "def getMergedCellsOrNone(sheet, row, column):\n",
    "    cell = sheet.cell(row, column)\n",
    "    for mergedCell in sheet.merged_cells.ranges:\n",
    "        if (cell.coordinate in mergedCell):\n",
    "            return mergedCell\n",
    "    return None"
   ]
  },
  {
   "cell_type": "code",
   "execution_count": null,
   "id": "c65c951d-9471-4f67-96c7-c61ac5a321e7",
   "metadata": {},
   "outputs": [],
   "source": [
    "def insertRowAndCopyFormat(template, sheet, source_row, target_row):\n",
    "    sheet.insert_rows(idx=target_row)\n",
    "    sheet.row_dimensions[target_row].height = template.row_dimensions[source_row].height\n",
    "    for col in range(1, 11):\n",
    "        sheet.cell(row=target_row, column=col)._style = template.cell(row=source_row, column=col)._style\n",
    "        mergedCells = getMergedCellsOrNone(template, source_row, col)\n",
    "        if mergedCells is not None and col == mergedCells.bounds[0]:\n",
    "            mergedCellsCopy = copy(mergedCells)\n",
    "            if target_row > source_row:\n",
    "                mergedCellsCopy.shift(row_shift=target_row-source_row)\n",
    "                sheet.merge_cells(range_string=(mergedCellsCopy.coord))"
   ]
  },
  {
   "cell_type": "code",
   "execution_count": null,
   "id": "9964680b-8af7-495d-ad80-6f6c800611a0",
   "metadata": {
    "tags": []
   },
   "outputs": [],
   "source": [
    "Path.unlink(BASE_DIR / outputDirectory / fileNamePackList, missing_ok=True)\n",
    "shutil.copyfile(BASE_DIR / templateDirectory / fileNamePackListTemplate, \n",
    "                BASE_DIR / outputDirectory / fileNamePackList)"
   ]
  },
  {
   "cell_type": "code",
   "execution_count": null,
   "id": "dcaa0d33-24f8-41e5-80d1-340d58c85a8d",
   "metadata": {
    "tags": []
   },
   "outputs": [],
   "source": [
    "workbook = load_workbook(filename=BASE_DIR / outputDirectory / fileNamePackList)\n",
    "template_sheet = workbook['template']"
   ]
  },
  {
   "cell_type": "code",
   "execution_count": null,
   "id": "46fed46c-050d-4de4-baf5-43b1e2042e58",
   "metadata": {},
   "outputs": [],
   "source": [
    "dfAllData = dfAllData.sort_values(by=['PickUpDate', 'PickUpTime'])"
   ]
  },
  {
   "cell_type": "code",
   "execution_count": null,
   "id": "4f333cae-ff71-4637-be04-c8341e05c59c",
   "metadata": {},
   "outputs": [],
   "source": [
    "dfGroupedByOrderNumber = dfAllData.groupby(by=['PickUpDate', 'PickUpTime', 'OrderNumber'])"
   ]
  },
  {
   "cell_type": "code",
   "execution_count": null,
   "id": "567d7d74-7863-4865-8ff0-e1ffca7226d5",
   "metadata": {
    "tags": []
   },
   "outputs": [],
   "source": [
    "articleCell = getFirstCellForNamedRange(workbook, template_sheet, 'ArticleNumber')\n",
    "headerRow = template_sheet[articleCell].row\n",
    "\n",
    "for index, group in dfGroupedByOrderNumber:\n",
    "    new_sheet = workbook.copy_worksheet(template_sheet)\n",
    "    order_number = group.iloc[0]['OrderNumber']\n",
    "    new_sheet.title = 'PO_' + str(order_number)\n",
    "    for rangeName in ['FullName', 'OrderTotalAmount', 'CustomerNote', 'OrderNumber', 'Telephone', 'PickUpDate', 'PickUpTime']:\n",
    "        fieldValue = group.iloc[0][rangeName]\n",
    "        fillCellForAttribute(rangeName, workbook, template_sheet, new_sheet, 0, fieldValue)\n",
    "    new_sheet.delete_rows(idx=headerRow, amount=2)\n",
    "    dfGroupedByPickUpArea = group.groupby('PickUpArea')\n",
    "    i = 0\n",
    "    d = 0\n",
    "    for area, subGroup in dfGroupedByPickUpArea:\n",
    "        for sub_index, row in subGroup.iterrows():\n",
    "            # sub_index is the (arbitrary) row number and cannot be used instead of i!\n",
    "            insertRowAndCopyFormat(template_sheet, new_sheet, headerRow, headerRow+i)\n",
    "            for rangeName in ['ArticleNumber', 'Quantity', 'ProductName', 'ItemCost', 'PickUpArea']:\n",
    "                fieldValue = row[rangeName]\n",
    "                fillCellForAttribute(rangeName, workbook, template_sheet, new_sheet, i, fieldValue)\n",
    "            i+=1\n",
    "            fillCellForAttribute('RowNumber', workbook, template_sheet, new_sheet, i-1, i-d)\n",
    "        insertRowAndCopyFormat(template_sheet, new_sheet, headerRow+1, headerRow+i)\n",
    "        i+=1\n",
    "        d+=1\n",
    "    for j in range(0,10):\n",
    "        offset = headerRow+i\n",
    "        new_sheet.row_dimensions[offset+j].height = template_sheet.row_dimensions[headerRow+2+j].height\n",
    "    fillCellForAttribute('NumberOfRows', workbook, template_sheet, new_sheet, 0, 'Ant.Orderrader ' + str(i-d))"
   ]
  },
  {
   "cell_type": "code",
   "execution_count": null,
   "id": "36ea1965-d741-4d32-aa12-2474dfed2ebc",
   "metadata": {},
   "outputs": [],
   "source": [
    "workbook.remove(template_sheet)"
   ]
  },
  {
   "cell_type": "code",
   "execution_count": null,
   "id": "cb209eca-f2ba-401c-9533-db7b632ae2fe",
   "metadata": {
    "tags": []
   },
   "outputs": [],
   "source": [
    "workbook.save(filename=BASE_DIR / outputDirectory / fileNamePackList)"
   ]
  },
  {
   "cell_type": "markdown",
   "id": "50ed8039-57ae-4845-97e1-80193e3fbb91",
   "metadata": {},
   "source": [
    "### Hämtlista"
   ]
  },
  {
   "cell_type": "code",
   "execution_count": null,
   "id": "b2ca4437-2a2d-4e77-aaed-5d30c8d31fc8",
   "metadata": {},
   "outputs": [],
   "source": [
    "weekDayDict = {\n",
    "0: 'Mån',\n",
    "1: 'Tis',\n",
    "2: 'Ons',\n",
    "3: 'Tor',\n",
    "4: 'Fre',\n",
    "5: 'Lör',\n",
    "6: 'Sön'}"
   ]
  },
  {
   "cell_type": "code",
   "execution_count": null,
   "id": "8c30d5da-cef2-4f0f-9b04-4eb45502404f",
   "metadata": {
    "tags": []
   },
   "outputs": [],
   "source": [
    "Path.unlink(BASE_DIR / outputDirectory / fileNamePickUpList, missing_ok=True)\n",
    "shutil.copyfile(BASE_DIR / templateDirectory / fileNamePickUpListTemplate,\n",
    "                BASE_DIR / outputDirectory / fileNamePickUpList)"
   ]
  },
  {
   "cell_type": "code",
   "execution_count": null,
   "id": "a0d573c9-c8e1-4022-9a2d-9b1f85cf7a55",
   "metadata": {
    "tags": []
   },
   "outputs": [],
   "source": [
    "workbook = load_workbook(filename=BASE_DIR / outputDirectory / fileNamePickUpList)\n",
    "template_sheet = workbook['template']"
   ]
  },
  {
   "cell_type": "code",
   "execution_count": null,
   "id": "1f67783e-af9f-4460-9b72-2136876b5724",
   "metadata": {},
   "outputs": [],
   "source": [
    "dfGroupedByPickUpDate = dfAllData.drop_duplicates(subset=['OrderNumber']).groupby('PickUpDate')"
   ]
  },
  {
   "cell_type": "code",
   "execution_count": null,
   "id": "7bdc2637-dcb8-4c3e-b605-142e5fb67846",
   "metadata": {
    "tags": []
   },
   "outputs": [],
   "source": [
    "pickUpTimeCell = getFirstCellForNamedRange(workbook, template_sheet, 'PickUpTime')\n",
    "orderNumberCol = template_sheet[pickUpTimeCell].column\n",
    "\n",
    "for ts, group in dfGroupedByPickUpDate:\n",
    "    new_sheet = workbook.copy_worksheet(template_sheet)\n",
    "    new_sheet.title = 'Hämtas ' + str(ts.date())\n",
    "    fillCellForAttribute('Weekday', workbook, template_sheet, new_sheet, 0, weekDayDict[ts.weekday()])\n",
    "    fillCellForAttribute('PickUpDate', workbook, template_sheet, new_sheet, 0, ts.date())\n",
    "    fillCellForAttribute('CreationDateTime', workbook, template_sheet, new_sheet, 0, str(datetime.now()))\n",
    "    headerRow = template_sheet[pickUpTimeCell].row\n",
    "    new_sheet.delete_rows(idx=headerRow, amount=2)\n",
    "    dfGroupedByPickUpTime = group.groupby('PickUpTime')\n",
    "    scheduledTimes = dfSchedule[dfSchedule['Date']==ts.date()]['Tid']\n",
    "    i = 0\n",
    "    d = 0\n",
    "    for time in scheduledTimes:\n",
    "        insertRowAndCopyFormat(template_sheet, new_sheet, headerRow, headerRow+i)\n",
    "        fillCellForAttribute('PickUpTime', workbook, template_sheet, new_sheet, i, time)\n",
    "        i+=1\n",
    "        d+=1\n",
    "        if time in dfGroupedByPickUpTime.indices:\n",
    "            subGroup = dfGroupedByPickUpTime.get_group(time)\n",
    "            for index, row in subGroup.iterrows():\n",
    "                insertRowAndCopyFormat(template_sheet, new_sheet, headerRow+1, headerRow+i)\n",
    "                for rangeName in ['OrderNumber', 'FullName', 'Telephone', 'OrderTotalAmount', 'CustomerNote']:\n",
    "                    fieldValue = row[rangeName]\n",
    "                    fillCellForAttribute(rangeName, workbook, template_sheet, new_sheet, i-1, fieldValue)\n",
    "                i+=1\n",
    "                fillCellForAttribute('RowNumber', workbook, template_sheet, new_sheet, i-2, i-d)\n",
    "        else:\n",
    "            insertRowAndCopyFormat(template_sheet, new_sheet, headerRow+1, headerRow+i)\n",
    "            i+=1\n",
    "            fillCellForAttribute('RowNumber', workbook, template_sheet, new_sheet, i-2, i-d)"
   ]
  },
  {
   "cell_type": "code",
   "execution_count": null,
   "id": "0f1d33e0-4bc8-478f-8faf-d33b38878434",
   "metadata": {
    "tags": []
   },
   "outputs": [],
   "source": [
    "workbook.remove(template_sheet)"
   ]
  },
  {
   "cell_type": "code",
   "execution_count": null,
   "id": "3bc25974-f747-4a73-8855-5d32e56a6b88",
   "metadata": {
    "tags": []
   },
   "outputs": [],
   "source": [
    "workbook.save(filename=BASE_DIR / outputDirectory / fileNamePickUpList)"
   ]
  },
  {
   "cell_type": "markdown",
   "id": "7b60dfcd-31ee-4902-9162-f54e42588894",
   "metadata": {
    "tags": []
   },
   "source": [
    "### Semlelista"
   ]
  },
  {
   "cell_type": "code",
   "execution_count": null,
   "id": "5d140387-7b59-4039-a58d-3eca7771eb75",
   "metadata": {
    "tags": []
   },
   "outputs": [],
   "source": [
    "Path.unlink(BASE_DIR / outputDirectory / fileNameSemleList, missing_ok=True)\n",
    "shutil.copyfile(BASE_DIR / templateDirectory / fileNameSemleListTemplate, \n",
    "                BASE_DIR / outputDirectory / fileNameSemleList)"
   ]
  },
  {
   "cell_type": "code",
   "execution_count": null,
   "id": "07904eba-2dc3-4ee9-908f-b3c0ac42468b",
   "metadata": {
    "tags": []
   },
   "outputs": [],
   "source": [
    "workbook = load_workbook(filename=BASE_DIR / outputDirectory / fileNameSemleList)\n",
    "template_sheet = workbook['template']"
   ]
  },
  {
   "cell_type": "code",
   "execution_count": null,
   "id": "67e49bc3-6ec8-49fb-b078-7d48405eb710",
   "metadata": {},
   "outputs": [],
   "source": [
    "articleNumberSemla = '#H_11#'\n",
    "dfOrdersSemla = dfAllData[dfAllData['ArticleNumber'] == articleNumberSemla]\n",
    "dfOrdersSemla = dfOrdersSemla[['ArticleNumber', 'ProductName', 'Quantity', 'OrderNumber', 'FullName', 'Email', 'PickUpDate', 'PickUpTime']]\n",
    "dfOrdersSemla['PickUpDateTime'] = [datetime.combine(d, t) for d, t in zip(dfOrdersSemla['PickUpDate'], dfOrdersSemla['PickUpTime'])]\n",
    "dfOrdersSemla['PickUpHour']  = dfOrdersSemla['PickUpDateTime'].dt.hour"
   ]
  },
  {
   "cell_type": "code",
   "execution_count": null,
   "id": "8e16067c-4842-42aa-b7cc-4f9e928fc7b0",
   "metadata": {},
   "outputs": [],
   "source": [
    "dfGroupedByPickUpDate = dfOrdersSemla.groupby(['PickUpDate'])"
   ]
  },
  {
   "cell_type": "code",
   "execution_count": null,
   "id": "1c95ec19-6630-4bb0-b5f3-c01a2005c184",
   "metadata": {
    "tags": []
   },
   "outputs": [],
   "source": [
    "orderNumberCell = getFirstCellForNamedRange(workbook, template_sheet, 'OrderNumber')\n",
    "headerRow = template_sheet[orderNumberCell].row\n",
    "\n",
    "new_sheet = workbook.copy_worksheet(template_sheet)\n",
    "new_sheet.title = 'Semla-Lista'\n",
    "\n",
    "for rangeName in ['ArticleNumber', 'ProductName']:\n",
    "    fieldValue = dfOrdersSemla.iloc[0][rangeName]\n",
    "    fillCellForAttribute(rangeName, workbook, template_sheet, new_sheet, 0, fieldValue)\n",
    "new_sheet.delete_rows(idx=headerRow, amount=2)\n",
    "\n",
    "i = 0\n",
    "\n",
    "for day, group in dfGroupedByPickUpDate:\n",
    "    dfGroupedByPickUpArea = group.groupby('PickUpHour')\n",
    "    \n",
    "    for hour, subGroup in dfGroupedByPickUpArea:\n",
    "        for sub_index, row in subGroup.iterrows():\n",
    "            insertRowAndCopyFormat(template_sheet, new_sheet, headerRow, headerRow+i)\n",
    "            for rangeName in ['Quantity', 'OrderNumber', 'FullName', 'Email', 'PickUpDate', 'PickUpTime']:\n",
    "                fieldValue = row[rangeName]\n",
    "                fillCellForAttribute(rangeName, workbook, template_sheet, new_sheet, i, fieldValue)\n",
    "            i+=1\n",
    "        insertRowAndCopyFormat(template_sheet, new_sheet, headerRow+1, headerRow+i)\n",
    "        fillCellForAttribute('Day', workbook, template_sheet, new_sheet, i-1, day.strftime('%d.%m'))\n",
    "        timeIntervalString = str(hour) + ':00 - ' + str(hour+1) + ':00'\n",
    "        fillCellForAttribute('Hour', workbook, template_sheet, new_sheet, i-1, timeIntervalString)\n",
    "        fillCellForAttribute('NumberOfItemsName', workbook, template_sheet, new_sheet, i-1, 'Antal:')\n",
    "        numberOfItemsString = subGroup['Quantity'].sum()\n",
    "        fillCellForAttribute('NumberOfItems', workbook, template_sheet, new_sheet, i-1, numberOfItemsString)\n",
    "        i+=2\n",
    "        \n",
    "    for j in range(0,10):\n",
    "        offset = headerRow+i\n",
    "        new_sheet.row_dimensions[offset+j].height = template_sheet.row_dimensions[headerRow+2+j].height"
   ]
  },
  {
   "cell_type": "code",
   "execution_count": null,
   "id": "09a9f330-fbf2-4768-a592-7fefa80eb4c1",
   "metadata": {
    "tags": []
   },
   "outputs": [],
   "source": [
    "workbook.remove(template_sheet)"
   ]
  },
  {
   "cell_type": "code",
   "execution_count": null,
   "id": "b2e18385-d1af-4414-a0bd-2d7fdc3bf996",
   "metadata": {
    "tags": []
   },
   "outputs": [],
   "source": [
    "workbook.save(filename=BASE_DIR / outputDirectory / fileNameSemleList)"
   ]
  },
  {
   "cell_type": "markdown",
   "id": "70518a2f-aee8-4b6c-86bd-8819bd781520",
   "metadata": {
    "tags": []
   },
   "source": [
    "### Masterlista"
   ]
  },
  {
   "cell_type": "code",
   "execution_count": null,
   "id": "dfa51187-b783-40d3-83e6-712f661496d3",
   "metadata": {
    "tags": []
   },
   "outputs": [],
   "source": [
    "dfMasterList = dfAllData[['OrderNumber', 'FullName', 'Email', 'OrderTotalAmount', 'OrderDate', \n",
    "              'Telephone', 'CustomerNote', 'Info', 'PickUpDate', 'PickUpTime']]"
   ]
  },
  {
   "cell_type": "code",
   "execution_count": null,
   "id": "9f5ab79a-a6d2-47de-bceb-8660d482afdc",
   "metadata": {},
   "outputs": [],
   "source": [
    "dfMasterList.columns = ['Order Number', 'Full Name (Billing)', 'Email (Billing)', 'Order Total Amount', 'Order Date', \n",
    "              'Telephone', 'Customer Note', 'Info ok', 'Hämtningsdag', 'Hämtning Tid']"
   ]
  },
  {
   "cell_type": "code",
   "execution_count": null,
   "id": "086e876c-9fb1-428d-9449-bacea72cc8ef",
   "metadata": {},
   "outputs": [],
   "source": [
    "dfMasterList = dfMasterList.drop_duplicates()"
   ]
  },
  {
   "cell_type": "code",
   "execution_count": null,
   "id": "6fdc3173-71c1-4442-8731-a350b8d0f7f2",
   "metadata": {
    "tags": []
   },
   "outputs": [],
   "source": [
    "dfMasterList.to_excel(BASE_DIR / outputDirectory / fileNameMasterList)"
   ]
  },
  {
   "cell_type": "code",
   "execution_count": null,
   "id": "32514ee6-d8c4-403f-bc8c-0d7263945cfe",
   "metadata": {},
   "outputs": [],
   "source": []
  },
  {
   "cell_type": "code",
   "execution_count": null,
   "id": "4176776c-5c27-4d0b-8eca-a558bff3da7e",
   "metadata": {},
   "outputs": [],
   "source": [
    "# tdr = pd.timedelta_range(start=str(dfSchedule['Tid'].min()), \n",
    "#                    end=str(dfSchedule['Tid'].max()), \n",
    "#                    freq='1H')"
   ]
  }
 ],
 "metadata": {
  "kernelspec": {
   "display_name": "Python 3 (ipykernel)",
   "language": "python",
   "name": "python3"
  },
  "language_info": {
   "codemirror_mode": {
    "name": "ipython",
    "version": 3
   },
   "file_extension": ".py",
   "mimetype": "text/x-python",
   "name": "python",
   "nbconvert_exporter": "python",
   "pygments_lexer": "ipython3",
   "version": "3.8.12"
  }
 },
 "nbformat": 4,
 "nbformat_minor": 5
}

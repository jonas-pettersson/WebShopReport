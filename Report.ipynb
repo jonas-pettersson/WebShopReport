{
 "cells": [
  {
   "cell_type": "markdown",
   "id": "c59d294c-a919-4cf6-90b1-20912e17459f",
   "metadata": {},
   "source": [
    "# Generate Documents - Svenska Kyrkan i Wien"
   ]
  },
  {
   "cell_type": "code",
   "execution_count": null,
   "id": "ca8005c5-97c6-4c2c-b6a4-37b404da537b",
   "metadata": {
    "tags": []
   },
   "outputs": [],
   "source": [
    "# import sys\n",
    "# !python -m pip install pandas\n",
    "# !python -m pip install openpyxl\n",
    "# !python -m pip install -r requirements.txt"
   ]
  },
  {
   "cell_type": "code",
   "execution_count": null,
   "id": "3d21f948-7e98-4451-ac40-2ca492e858d7",
   "metadata": {},
   "outputs": [],
   "source": [
    "# pd.set_option('display.max_rows', 100)"
   ]
  },
  {
   "cell_type": "code",
   "execution_count": null,
   "id": "695fd8c4-ab01-4539-a23e-3655edf57b0b",
   "metadata": {},
   "outputs": [],
   "source": [
    "import pandas as pd\n",
    "import numpy as np\n",
    "from pathlib import Path"
   ]
  },
  {
   "cell_type": "code",
   "execution_count": null,
   "id": "81cc33b3-a916-43ce-94c0-189ea0fa5a8b",
   "metadata": {},
   "outputs": [],
   "source": [
    "from openpyxl import Workbook, load_workbook\n",
    "import shutil\n",
    "from copy import copy"
   ]
  },
  {
   "cell_type": "code",
   "execution_count": null,
   "id": "9cc39ebc-19ad-4895-b928-3fc126f7b97c",
   "metadata": {},
   "outputs": [],
   "source": [
    "from datetime import datetime"
   ]
  },
  {
   "cell_type": "code",
   "execution_count": null,
   "id": "127d5c73-6db1-416d-b60b-8403a0da43ef",
   "metadata": {
    "tags": []
   },
   "outputs": [],
   "source": [
    "BASE_DIR = Path.cwd()\n",
    "print(BASE_DIR)"
   ]
  },
  {
   "cell_type": "markdown",
   "id": "1fa96708-6e42-45ea-ad18-69775c14bb31",
   "metadata": {},
   "source": [
    "### Filnamn"
   ]
  },
  {
   "cell_type": "code",
   "execution_count": null,
   "metadata": {},
   "outputs": [],
   "source": [
    "# Jul eller pask\n",
    "# marketType = 'pask'\n",
    "marketType = 'julmaten'\n",
    "# marketType = 'julmarknad'"
   ]
  },
  {
   "cell_type": "markdown",
   "id": "fcf79a30-d759-46c1-be98-50e15b8ee8fd",
   "metadata": {},
   "source": [
    "Här kan man ändra namnen på alla filer och tabellblad för data som läses in ock skrivs ut"
   ]
  },
  {
   "cell_type": "code",
   "execution_count": null,
   "id": "94e91a79-d866-461e-b02c-a6b08a429ebf",
   "metadata": {},
   "outputs": [],
   "source": [
    "inputDirectory = 'input'\n",
    "outputDirectory = 'output'\n",
    "templateDirectory = 'templates'\n",
    "\n",
    "# Inputs\n",
    "fileNameProducts = 'wc-product-export.csv'\n",
    "fileNameOrders = 'orders.xlsx'\n",
    "fileNameTimeslots = 'tidsbokning.csv'\n",
    "fileNamePackingCategories = 'placeringsnycklar.xlsx'\n",
    "fileNameSchedule = 'schedule.xlsx'\n",
    "\n",
    "# Outputs\n",
    "fileNamePackList = 'packlista.xlsx'\n",
    "fileNamePickUpList = 'hämtningslista.xlsx'\n",
    "fileNameSemleList = 'semlelista.xlsx'\n",
    "fileNameMasterList = 'masterlista.xlsx'\n",
    "fileNameDiffs = 'diffs.xlsx'\n",
    "fileNameAllData = 'allData.xlsx'\n",
    "fileNameTimeslotsOutput = 'tidsbokning.xlsx'\n",
    "\n",
    "# Templates\n",
    "fileNamePickUpListTemplate = 'hämtlista_template.xlsx'\n",
    "fileNameSemleListTemplate = 'semlelista_template.xlsx'\n",
    "fileNamePackingCategoriesTemplate = 'placeringsnycklar_[marketType].xlsx'\n",
    "fileNameScheduleTemplate = 'schedule_[marketType].xlsx'\n",
    "fileNamePackListTemplate = 'packlista_template_[marketType].xlsx'\n",
    "\n",
    "\n",
    "fileNamePackingCategoriesTemplate = fileNamePackingCategoriesTemplate.replace('[marketType]', marketType)\n",
    "fileNameScheduleTemplate = fileNameScheduleTemplate.replace('[marketType]', marketType)\n",
    "fileNamePackListTemplate = fileNamePackListTemplate.replace('[marketType]', marketType)"
   ]
  },
  {
   "cell_type": "markdown",
   "id": "b81cee19",
   "metadata": {},
   "source": [
    "### Export Data"
   ]
  },
  {
   "cell_type": "markdown",
   "id": "cd1964b1",
   "metadata": {},
   "source": [
    "Exportera data från WordPress:\n",
    "- https://julmarknad.svenskakyrkan.at/wp-admin/\n",
    "- https://julmaten.svenskakyrkan.at/wp-admin\n",
    "- https://paskmarknad.svenskakyrkan.at/wp-admin/\n",
    "\n",
    "För att exporten ska ha rätt format måste språket i WordPress vara engelska. Detta kan man ställa in i sin användarprofil. Det handlar om det som kallas \"Interface Language\" till skillnad från \"Site Language\"\n",
    "\n",
    "1. Exportera produkter\n",
    "    - Gå till __Products -> All Products__\n",
    "    - Tryck på __Export__\n",
    "    - Lämna standardinställningar (exportera allt) och tryck på __Generate CSV__\n",
    "    - Spara filen i den härför avsedda mappen under namnet (exakt): _wc-product-export.csv_\n",
    "2. Exportera beställningar\n",
    "    - Gå till __WooCommerce-> Export Order__\n",
    "    - Lämna standardinställningar och tryck på __Export__\n",
    "    - Spara filen i den härför avsedda mappen under namnet (exakt): _orders.xlsx_\n",
    "3. Exportera tidsbokningar\n",
    "    - Gå till __WP Time Slots Booking Form__\n",
    "    - Tryck på __Booking Orders__\n",
    "    - Tryck på __Export to CSV__\n",
    "    - Spara filen i den härför avsedda mappen under namnet (exakt): _tidsbokning.csv_\n",
    "4. Se till att filen med placeringsnycklar står till förfogande (_placeringsnycklar.xlsx_)\n",
    "5. Se till att filen med hämtningstider står till förfogande (_schedule.xlsx_)\n",
    "\n",
    "De tv¨senare filerna ligger på OneDrive:\n",
    "- https://svkyrkan-my.sharepoint.com/personal/katharina_hieke_svenskakyrkan_se/_layouts/15/onedrive.aspx?id=%2Fpersonal%2Fkatharina%5Fhieke%5Fsvenskakyrkan%5Fse%2FDocuments%2Fjulmarknad22&ga=1"
   ]
  },
  {
   "cell_type": "markdown",
   "id": "03a82194-78c1-43f5-a6bd-9ee4bd309e2b",
   "metadata": {},
   "source": [
    "### Read and Format Data"
   ]
  },
  {
   "cell_type": "markdown",
   "id": "eb7f1a91-4178-41a1-8862-eef2ab723664",
   "metadata": {},
   "source": [
    "**Products**"
   ]
  },
  {
   "cell_type": "code",
   "execution_count": null,
   "id": "ea61488c-746c-42a1-9f71-d9f53bf4b9a0",
   "metadata": {},
   "outputs": [],
   "source": [
    "# Julbasaren has Artikelnummer instead of SKU\n",
    "dfProducts = pd.read_csv(BASE_DIR / inputDirectory / fileNameProducts, usecols=['SKU', 'Short description', 'Regular price'])"
   ]
  },
  {
   "cell_type": "code",
   "execution_count": null,
   "id": "f57e6508-13a4-4252-8a8d-b1aadfc9a7eb",
   "metadata": {},
   "outputs": [],
   "source": [
    "dfProducts.columns = ['ArticleNumber', 'ProductDescription', 'RegularPrice']"
   ]
  },
  {
   "cell_type": "markdown",
   "id": "a829525a-d84f-4be7-9c10-944acc6b89a9",
   "metadata": {},
   "source": [
    "**Orders**"
   ]
  },
  {
   "cell_type": "code",
   "execution_count": null,
   "id": "6f4ed3d2-5ea3-46dc-abd3-80b9d77e2a70",
   "metadata": {},
   "outputs": [],
   "source": [
    "dfOrders = pd.read_excel(str(BASE_DIR / inputDirectory / fileNameOrders), \n",
    "                         usecols=['Order Number', 'Full Name (Billing)', 'Email (Billing)',\n",
    "                                  'Order Total Amount (- Refund)', 'Order Date', 'Customer Note',\n",
    "                                  'Phone (Billing)', 'SKU', 'Quantity (- Refund)', 'Product Name',\n",
    "                                  'Item Cost (inc. tax)', 'Item #', 'Info', 'pa_packn_kategori'])"
   ]
  },
  {
   "cell_type": "code",
   "execution_count": null,
   "id": "d2248487-6332-40d3-aea6-7d2ed8d181dc",
   "metadata": {},
   "outputs": [],
   "source": [
    "dfOrders.columns= ['OrderNumber', 'FullName', 'Email',\n",
    "                   'OrderTotalAmount', 'OrderDate', 'CustomerNote',\n",
    "                   'PhoneOrder', 'ArticleNumber', 'Quantity', 'ProductName',\n",
    "                   'ItemCost', 'ItemID', 'Info', 'PackingCategory']"
   ]
  },
  {
   "cell_type": "code",
   "execution_count": null,
   "id": "a26e00a1-981a-4aec-ace4-882d62c13b90",
   "metadata": {},
   "outputs": [],
   "source": [
    "# convert emails to lower case\n",
    "dfOrders['Email'] = dfOrders['Email'].str.lower()"
   ]
  },
  {
   "cell_type": "code",
   "execution_count": null,
   "id": "36a4f072-8396-4ea5-b358-b09b6d587134",
   "metadata": {},
   "outputs": [],
   "source": [
    "dfOrders['PackingCategory'] = dfOrders['PackingCategory'].transform(lambda x: str(x))"
   ]
  },
  {
   "cell_type": "code",
   "execution_count": null,
   "id": "9b3addee-bf90-40d2-8722-bf022b70c0fd",
   "metadata": {},
   "outputs": [],
   "source": [
    "dfOrders['PackingCategoryKey'] = dfOrders['PackingCategory'].str.lower()"
   ]
  },
  {
   "cell_type": "markdown",
   "id": "a074537e-062d-49a7-b39c-5dffd3bd31e7",
   "metadata": {},
   "source": [
    "**Timeslots**"
   ]
  },
  {
   "cell_type": "code",
   "execution_count": null,
   "id": "df20fa3c-87b4-4285-81bb-0742cce1ba8c",
   "metadata": {},
   "outputs": [],
   "source": [
    "if marketType == 'pask':\n",
    "    # Pask\n",
    "    dfTimeslots = pd.read_csv(BASE_DIR / inputDirectory / fileNameTimeslots, index_col=False,\n",
    "                             parse_dates=['Time', 'app_date_1', 'app_datetime_1'], dayfirst=True,\n",
    "                             usecols=['Time', 'Email',\n",
    "                                      'app_date_1', 'app_slot_1', 'app_datetime_1',\n",
    "                                      'Telefon', 'Unnamed: 21'], encoding='latin_1')\n",
    "else:\n",
    "    # Jul\n",
    "    dfTimeslots = pd.read_csv(BASE_DIR / inputDirectory / fileNameTimeslots, index_col=False,\n",
    "                             parse_dates=['Time', 'app_date_1', 'Select Date and Time'], dayfirst=False,\n",
    "                             usecols=['Time', 'Email',\n",
    "                                      'app_date_1', 'app_slot_1', 'Select Date and Time',\n",
    "                                      'Name', 'Telefon'], encoding='latin_1')"
   ]
  },
  {
   "cell_type": "code",
   "execution_count": null,
   "id": "4a7277c5-b491-4e5e-ae8f-548077297560",
   "metadata": {},
   "outputs": [],
   "source": [
    "# Note that Name and Telephone are shifted in the export file of the paskmarknad!\n",
    "dfTimeslots.columns=['OrderTime', 'Email',\n",
    "                     'PickUpDate', 'PickUpTime', 'PickUpDateTime', \n",
    "                     'FullNameTimeslot', 'Telephone']"
   ]
  },
  {
   "cell_type": "code",
   "execution_count": null,
   "id": "ad819b8d-c0e2-4c6b-995d-79d43ec17b6a",
   "metadata": {},
   "outputs": [],
   "source": [
    "# change pick-up time from string to real time format\n",
    "#dfTimeslots['PickUpTime'] = dfTimeslots['PickUpTime'].transform(lambda x: x.time())\n",
    "\n",
    "dfTimeslots['PickUpTime'] = dfTimeslots['PickUpTime'].transform(\n",
    "    lambda t: datetime.strptime(t, '%H:%M').time())\n",
    "\n"
   ]
  },
  {
   "cell_type": "code",
   "execution_count": null,
   "id": "f7390dec-879c-4867-8616-18fef2315bb6",
   "metadata": {},
   "outputs": [],
   "source": [
    "# convert emails to lower case\n",
    "dfTimeslots['Email'] = dfTimeslots['Email'].str.lower()"
   ]
  },
  {
   "cell_type": "code",
   "execution_count": null,
   "id": "ea2a1b4b-d875-4d35-b7a6-e2dfa7785b7a",
   "metadata": {},
   "outputs": [],
   "source": [
    "# re-export timeslots for good formatting\n",
    "dfTimeslots.to_excel(BASE_DIR / outputDirectory / fileNameTimeslotsOutput)"
   ]
  },
  {
   "cell_type": "markdown",
   "id": "bb5ff85d-1237-4182-98ea-75374c241cf5",
   "metadata": {},
   "source": [
    "**Packing Categories**"
   ]
  },
  {
   "cell_type": "code",
   "execution_count": null,
   "metadata": {},
   "outputs": [],
   "source": [
    "Path.unlink(BASE_DIR / inputDirectory / fileNamePackingCategories, missing_ok=True)\n",
    "shutil.copyfile(BASE_DIR / templateDirectory / fileNamePackingCategoriesTemplate, \n",
    "                BASE_DIR / inputDirectory / fileNamePackingCategories)"
   ]
  },
  {
   "cell_type": "code",
   "execution_count": null,
   "id": "9884724b-9d70-4f97-962e-c9156fb13bd9",
   "metadata": {},
   "outputs": [],
   "source": [
    "dfPackingCategories = pd.read_excel(str(BASE_DIR / inputDirectory / fileNamePackingCategories), \n",
    "                                    header=1, skiprows=None, usecols=['info till Packlistan', 'Packningskategori'])"
   ]
  },
  {
   "cell_type": "code",
   "execution_count": null,
   "id": "d11f5f04-b1bf-4e14-84dd-d2ed42c0b843",
   "metadata": {},
   "outputs": [],
   "source": [
    "dfPackingCategories.columns = ['PickUpArea', 'PackingCategory']"
   ]
  },
  {
   "cell_type": "code",
   "execution_count": null,
   "id": "a2fe8061-2dc3-4ccb-b901-045b3b66a123",
   "metadata": {},
   "outputs": [],
   "source": [
    "dfPackingCategories['PackingCategory'] = dfPackingCategories['PackingCategory'].transform(lambda x: str(x))"
   ]
  },
  {
   "cell_type": "code",
   "execution_count": null,
   "id": "e09d547c-86f5-4c0b-95e1-5a2708530ce5",
   "metadata": {},
   "outputs": [],
   "source": [
    "dfPackingCategories['PackingCategoryKey'] = dfPackingCategories['PackingCategory'].str.lower()"
   ]
  },
  {
   "cell_type": "code",
   "execution_count": null,
   "id": "4249216a-d713-47b5-8378-a8abfdf2149f",
   "metadata": {},
   "outputs": [],
   "source": [
    "dfPackingCategories['PickUpArea'] = dfPackingCategories['PickUpArea'].str.replace('_', ' ')"
   ]
  },
  {
   "cell_type": "code",
   "execution_count": null,
   "id": "fa8ef7dd-904e-4826-bba8-20f1d7b045a6",
   "metadata": {},
   "outputs": [],
   "source": [
    "dfPackingCategories['PackingCategoryIndex'] = dfPackingCategories.index"
   ]
  },
  {
   "cell_type": "markdown",
   "id": "5d314122-1c7c-4552-8009-9e958eac6478",
   "metadata": {},
   "source": [
    "**Schedule**"
   ]
  },
  {
   "cell_type": "code",
   "execution_count": null,
   "metadata": {},
   "outputs": [],
   "source": [
    "Path.unlink(BASE_DIR / inputDirectory / fileNameSchedule, missing_ok=True)\n",
    "shutil.copyfile(BASE_DIR / templateDirectory / fileNameScheduleTemplate, \n",
    "                BASE_DIR / inputDirectory / fileNameSchedule)"
   ]
  },
  {
   "cell_type": "code",
   "execution_count": null,
   "id": "30778f7d-9025-4b7e-ad19-aae1c85304b2",
   "metadata": {},
   "outputs": [],
   "source": [
    "dfSchedule = pd.read_excel(str(BASE_DIR / inputDirectory / fileNameSchedule))"
   ]
  },
  {
   "cell_type": "markdown",
   "id": "5a614b75-3370-4648-9b20-b40da0bb8b0c",
   "metadata": {},
   "source": [
    "Skapa en extra spalter med date och datetime från dag och tid"
   ]
  },
  {
   "cell_type": "code",
   "execution_count": null,
   "id": "bef22179-77be-4f76-a925-28a1d9c1d8b7",
   "metadata": {},
   "outputs": [],
   "source": [
    "dfSchedule['Date'] = dfSchedule['Dag'].transform(lambda x: x.date())"
   ]
  },
  {
   "cell_type": "code",
   "execution_count": null,
   "id": "f6791307-3726-40fd-a82b-cc6e67d30438",
   "metadata": {
    "tags": []
   },
   "outputs": [],
   "source": [
    "dfSchedule['DateTime'] = [datetime.combine(d, t) for d, t in zip(dfSchedule['Dag'], dfSchedule['Tid'])]"
   ]
  },
  {
   "cell_type": "markdown",
   "id": "ba839b50-f839-48d0-9c64-7ea1fa0ce485",
   "metadata": {
    "tags": []
   },
   "source": [
    "### Diffs"
   ]
  },
  {
   "cell_type": "code",
   "execution_count": null,
   "id": "83e38f07-caef-42f5-9af0-9fc6150e7de2",
   "metadata": {},
   "outputs": [],
   "source": [
    "def alignCellWidthFor(sheet):\n",
    "    dims = {}\n",
    "    for row in sheet.rows:\n",
    "        for cell in row:\n",
    "            if cell.value:\n",
    "                dims[cell.column_letter] = max((dims.get(cell.column_letter, 0), len(str(cell.value))))    \n",
    "    for col, value in dims.items():\n",
    "        sheet.column_dimensions[col].width = value * 1.23"
   ]
  },
  {
   "cell_type": "code",
   "execution_count": null,
   "id": "98d4c995-d8c2-466a-931b-87e534dac852",
   "metadata": {},
   "outputs": [],
   "source": [
    "Path.unlink(BASE_DIR / outputDirectory / fileNameDiffs, missing_ok=True)"
   ]
  },
  {
   "cell_type": "markdown",
   "id": "26808a12-35dc-4591-bde6-afa193080937",
   "metadata": {},
   "source": [
    "**Har gett order men har ej bokat tid**"
   ]
  },
  {
   "cell_type": "code",
   "execution_count": null,
   "id": "6c0e333c-7b17-4eb6-8a9a-8c0ad316da5c",
   "metadata": {},
   "outputs": [],
   "source": [
    "orderEmails = dfOrders['Email'].unique()"
   ]
  },
  {
   "cell_type": "code",
   "execution_count": null,
   "id": "0f599c14-e6be-4418-869e-60c2ef33ae33",
   "metadata": {},
   "outputs": [],
   "source": [
    "timeSlotEmails = dfTimeslots['Email'].unique()"
   ]
  },
  {
   "cell_type": "code",
   "execution_count": null,
   "id": "5ec14586-50d2-4977-85fd-2b7414e218c2",
   "metadata": {},
   "outputs": [],
   "source": [
    "diffEmails = np.setdiff1d(orderEmails, timeSlotEmails)\n",
    "dfOrderButNoTimeBooked = dfOrders[dfOrders['Email'].isin(diffEmails)].drop_duplicates(subset=['OrderNumber'])\n",
    "dfOrderButNoTimeBooked = dfOrderButNoTimeBooked[['OrderNumber', 'FullName', 'Email',\n",
    "       'OrderTotalAmount', 'OrderDate', 'CustomerNote', 'PhoneOrder']]"
   ]
  },
  {
   "cell_type": "code",
   "execution_count": null,
   "id": "19ab7b17-9e35-40a3-8e87-0c9679632013",
   "metadata": {},
   "outputs": [],
   "source": [
    "dfOrderButNoTimeBooked.to_excel(BASE_DIR / outputDirectory / fileNameDiffs, sheet_name='Beställning utan tidsbokning')"
   ]
  },
  {
   "cell_type": "code",
   "execution_count": null,
   "id": "54541eab-7009-431a-9e25-b785465a2e1e",
   "metadata": {},
   "outputs": [],
   "source": [
    "workbook = load_workbook(filename=BASE_DIR / outputDirectory / fileNameDiffs)\n",
    "sheet = workbook['Beställning utan tidsbokning']\n",
    "alignCellWidthFor(sheet)\n",
    "workbook.save(filename=BASE_DIR / outputDirectory / fileNameDiffs)"
   ]
  },
  {
   "cell_type": "markdown",
   "id": "7f5d0e7b-8475-4a39-9bd6-cb249ddca2ea",
   "metadata": {},
   "source": [
    "**Tidsbokning utan order**"
   ]
  },
  {
   "cell_type": "code",
   "execution_count": null,
   "id": "40a101f6-32da-464f-a31a-09295a81de95",
   "metadata": {},
   "outputs": [],
   "source": [
    "diffEmails = np.setdiff1d(timeSlotEmails, orderEmails)\n",
    "dfOrderButNoTimeBooked = dfTimeslots[dfTimeslots['Email'].isin(diffEmails)]\n",
    "dfOrderButNoTimeBooked = dfOrderButNoTimeBooked[['Email', 'PickUpDate', 'PickUpTime', 'FullNameTimeslot', 'Telephone']]"
   ]
  },
  {
   "cell_type": "code",
   "execution_count": null,
   "id": "72f1fea1-e7ba-421d-9f09-9917705980d2",
   "metadata": {},
   "outputs": [],
   "source": [
    "with pd.ExcelWriter(BASE_DIR / outputDirectory / fileNameDiffs,\n",
    "                    mode='a') as writer:  \n",
    "    dfOrderButNoTimeBooked.to_excel(writer, sheet_name= 'Tidsbokning utan beställning')"
   ]
  },
  {
   "cell_type": "code",
   "execution_count": null,
   "id": "cf2e43ec-1792-4d9e-9600-1865f52bf24d",
   "metadata": {},
   "outputs": [],
   "source": [
    "workbook = load_workbook(filename=BASE_DIR / outputDirectory / fileNameDiffs)\n",
    "sheet = workbook['Tidsbokning utan beställning']\n",
    "alignCellWidthFor(sheet)\n",
    "workbook.save(filename=BASE_DIR / outputDirectory / fileNameDiffs)"
   ]
  },
  {
   "cell_type": "markdown",
   "id": "27e2efda-ee85-4b15-9588-7a09e439f542",
   "metadata": {},
   "source": [
    "**Dubbla tidsbokningar**"
   ]
  },
  {
   "cell_type": "code",
   "execution_count": null,
   "id": "d820cdeb-5ede-436c-9e60-f70e95b94db1",
   "metadata": {
    "tags": []
   },
   "outputs": [],
   "source": [
    "emailCounts = dfTimeslots['Email'].value_counts()\n",
    "dfMoreThanOneBookings = dfTimeslots[dfTimeslots['Email'].isin(emailCounts.index[emailCounts.gt(1)])]\n",
    "dfMoreThanOneBookings = dfMoreThanOneBookings.sort_values(by=['Email', 'PickUpDate', 'PickUpTime'])\n",
    "dfMoreThanOneBookings = dfMoreThanOneBookings[['Email', 'PickUpDate', 'PickUpTime', 'FullNameTimeslot', 'Telephone']]"
   ]
  },
  {
   "cell_type": "code",
   "execution_count": null,
   "id": "15b51957-faa5-4aaa-b792-5ac84a19a88d",
   "metadata": {},
   "outputs": [],
   "source": [
    "with pd.ExcelWriter(BASE_DIR / outputDirectory / fileNameDiffs,\n",
    "                    mode='a') as writer:  \n",
    "    dfMoreThanOneBookings.to_excel(writer, sheet_name='Dubbla tidsbokningar')"
   ]
  },
  {
   "cell_type": "code",
   "execution_count": null,
   "id": "e93f0727-c91c-4b61-9a04-116f7ca32ef0",
   "metadata": {},
   "outputs": [],
   "source": [
    "workbook = load_workbook(filename=BASE_DIR / outputDirectory / fileNameDiffs)\n",
    "sheet = workbook['Dubbla tidsbokningar']\n",
    "alignCellWidthFor(sheet)\n",
    "workbook.save(filename=BASE_DIR / outputDirectory / fileNameDiffs)"
   ]
  },
  {
   "cell_type": "code",
   "execution_count": null,
   "id": "18415432-79d8-43fd-b523-c3d16bc29113",
   "metadata": {},
   "outputs": [],
   "source": [
    "# after reporting, we remove the duplicates\n",
    "dfTimeslots.drop_duplicates(subset=['Email'], inplace=True)"
   ]
  },
  {
   "cell_type": "markdown",
   "id": "310259b8-b6e8-4c31-bb2a-7a049bb8d218",
   "metadata": {
    "tags": []
   },
   "source": [
    "**Artikel saknas i produktplaceringslista**"
   ]
  },
  {
   "cell_type": "code",
   "execution_count": null,
   "id": "fa2f28bb-22c2-4ec8-9308-94a206af49f3",
   "metadata": {},
   "outputs": [],
   "source": [
    "orderSKUs = dfOrders['ArticleNumber'].unique()"
   ]
  },
  {
   "cell_type": "code",
   "execution_count": null,
   "id": "493b5669-bbff-4173-802e-026441050686",
   "metadata": {
    "tags": []
   },
   "outputs": [],
   "source": [
    "produktListaArtiklar = dfProducts['ArticleNumber'].unique()"
   ]
  },
  {
   "cell_type": "code",
   "execution_count": null,
   "id": "d9448d31-1da5-47b1-8b40-9522451db8ff",
   "metadata": {},
   "outputs": [],
   "source": [
    "skuDiff = np.setdiff1d(orderSKUs, produktListaArtiklar)"
   ]
  },
  {
   "cell_type": "code",
   "execution_count": null,
   "id": "6804402c-b931-49ed-a1df-dd29f551a594",
   "metadata": {},
   "outputs": [],
   "source": [
    "missingProducts = dfOrders[dfOrders['ArticleNumber'].isin(skuDiff)][['ArticleNumber', 'ProductName']]\n",
    "missingProducts.drop_duplicates(subset=['ArticleNumber'], inplace=True)\n",
    "missingProducts = missingProducts.sort_values(by='ArticleNumber')\n",
    "print(len(missingProducts))"
   ]
  },
  {
   "cell_type": "code",
   "execution_count": null,
   "id": "e7ee5404-a121-470b-93bf-916dbf57edd6",
   "metadata": {},
   "outputs": [],
   "source": [
    "with pd.ExcelWriter(BASE_DIR / outputDirectory / fileNameDiffs,\n",
    "                    mode='a') as writer:  \n",
    "    missingProducts.to_excel(writer, sheet_name='Saknas i produktlista')"
   ]
  },
  {
   "cell_type": "code",
   "execution_count": null,
   "id": "633b9275-5ef4-42ff-9cd6-2c43b04f2a95",
   "metadata": {},
   "outputs": [],
   "source": [
    "workbook = load_workbook(filename=BASE_DIR / outputDirectory / fileNameDiffs)\n",
    "sheet = workbook['Saknas i produktlista']\n",
    "alignCellWidthFor(sheet)\n",
    "workbook.save(filename=BASE_DIR / outputDirectory / fileNameDiffs)"
   ]
  },
  {
   "cell_type": "markdown",
   "id": "262a4571-01bd-4e73-8dc7-6c544d21dc69",
   "metadata": {
    "tags": []
   },
   "source": [
    "**Packningskategori saknas**"
   ]
  },
  {
   "cell_type": "code",
   "execution_count": null,
   "id": "54a3a8fb-0902-4295-9ed8-8d27e188ce63",
   "metadata": {},
   "outputs": [],
   "source": [
    "orderPackingCategoriesList = dfOrders['PackingCategoryKey'].unique()"
   ]
  },
  {
   "cell_type": "code",
   "execution_count": null,
   "id": "ef536673-d54e-404d-a6b4-02eb24658a62",
   "metadata": {
    "tags": []
   },
   "outputs": [],
   "source": [
    "packingCategoriesList = dfPackingCategories['PackingCategoryKey'].unique()"
   ]
  },
  {
   "cell_type": "code",
   "execution_count": null,
   "id": "194d8a6d-6d74-4310-a481-6ec412470d94",
   "metadata": {},
   "outputs": [],
   "source": [
    "packingCategoriesDiff = np.setdiff1d(orderPackingCategoriesList, packingCategoriesList)"
   ]
  },
  {
   "cell_type": "code",
   "execution_count": null,
   "id": "cab671da-0605-4492-a7ea-60bea4f0e1f1",
   "metadata": {},
   "outputs": [],
   "source": [
    "packingCategoriesDiff"
   ]
  },
  {
   "cell_type": "code",
   "execution_count": null,
   "id": "582e8a6a-e723-4540-a347-87163256038c",
   "metadata": {},
   "outputs": [],
   "source": [
    "orderWithMissingCategory = dfOrders[dfOrders['PackingCategoryKey'].isin(packingCategoriesDiff)]\n",
    "orderWithMissingCategory = orderWithMissingCategory[['PackingCategory', 'OrderNumber', 'ArticleNumber', 'ProductName', 'FullName', 'Email']]\n",
    "orderWithMissingCategory = orderWithMissingCategory.sort_values(by='PackingCategory')\n",
    "print(len(orderWithMissingCategory))"
   ]
  },
  {
   "cell_type": "code",
   "execution_count": null,
   "id": "f31b0d8d-4d5a-41e9-869f-177221d1432d",
   "metadata": {},
   "outputs": [],
   "source": [
    "with pd.ExcelWriter(BASE_DIR / outputDirectory / fileNameDiffs,\n",
    "                    mode='a') as writer:  \n",
    "    orderWithMissingCategory.to_excel(writer, sheet_name='Packningskategori saknas')"
   ]
  },
  {
   "cell_type": "code",
   "execution_count": null,
   "id": "74aa8392-b701-4fb5-89bf-71af030e2013",
   "metadata": {},
   "outputs": [],
   "source": [
    "workbook = load_workbook(filename=BASE_DIR / outputDirectory / fileNameDiffs)\n",
    "sheet = workbook['Packningskategori saknas']\n",
    "alignCellWidthFor(sheet)\n",
    "workbook.save(filename=BASE_DIR / outputDirectory / fileNameDiffs)"
   ]
  },
  {
   "cell_type": "markdown",
   "id": "cfa18258-7db2-4169-8857-3e8bd933e6a0",
   "metadata": {
    "tags": []
   },
   "source": [
    "### Merge and Select Data"
   ]
  },
  {
   "cell_type": "code",
   "execution_count": null,
   "id": "88f53f85-5a66-4462-b46e-031235ce4f11",
   "metadata": {},
   "outputs": [],
   "source": [
    "dfOrders.shape"
   ]
  },
  {
   "cell_type": "code",
   "execution_count": null,
   "id": "401b49cf-8b28-46ac-870e-2f4ef50fc91e",
   "metadata": {},
   "outputs": [],
   "source": [
    "# Merge orders with timeslots\n",
    "dfAllData = pd.merge(dfOrders, dfTimeslots, on='Email')"
   ]
  },
  {
   "cell_type": "code",
   "execution_count": null,
   "id": "c30c91a4-9617-4bee-be58-9d2f4ac2b1f7",
   "metadata": {},
   "outputs": [],
   "source": [
    "dfAllData.shape"
   ]
  },
  {
   "cell_type": "code",
   "execution_count": null,
   "id": "ed3681b4-f29b-4186-bf5c-c7ee5c0fb5d0",
   "metadata": {},
   "outputs": [],
   "source": [
    "# Merge with products\n",
    "dfAllData = pd.merge(dfAllData, dfProducts, on='ArticleNumber', suffixes=['', None])"
   ]
  },
  {
   "cell_type": "code",
   "execution_count": null,
   "id": "fd63e1d5-2f3f-4e0f-b4d6-ffb225894fb3",
   "metadata": {},
   "outputs": [],
   "source": [
    "dfAllData.shape"
   ]
  },
  {
   "cell_type": "code",
   "execution_count": null,
   "id": "ece627a3-2014-4771-903a-7d1944f894ea",
   "metadata": {},
   "outputs": [],
   "source": [
    "# Merge with packing category\n",
    "dfAllData = pd.merge(dfAllData, dfPackingCategories, on='PackingCategoryKey')"
   ]
  },
  {
   "cell_type": "code",
   "execution_count": null,
   "id": "f1b6202e-6e80-490d-ae55-eb99f53919d2",
   "metadata": {},
   "outputs": [],
   "source": [
    "dfAllData.shape"
   ]
  },
  {
   "cell_type": "code",
   "execution_count": null,
   "id": "909e2764-452c-4a12-b2a8-84e7165ede12",
   "metadata": {},
   "outputs": [],
   "source": [
    "dfAllData.to_excel(BASE_DIR / outputDirectory / fileNameAllData)"
   ]
  },
  {
   "cell_type": "markdown",
   "id": "ee35fa9a-9a41-4299-80a6-3b62351eecb8",
   "metadata": {},
   "source": [
    "### Packlista"
   ]
  },
  {
   "cell_type": "code",
   "execution_count": null,
   "id": "d8df5c28-bee5-407b-99d6-fca78d673812",
   "metadata": {
    "tags": []
   },
   "outputs": [],
   "source": [
    "def getFirstCellForNamedRange(workbook, sheet, range_name):\n",
    "    cellNameList = []\n",
    "    firstCellTuple = ()\n",
    "    if range_name in workbook.defined_names:\n",
    "        cellNameList = [(s, c) for s, c in workbook.defined_names[range_name].destinations if (s == sheet.title)]\n",
    "    if cellNameList:\n",
    "        firstCellTuple = cellNameList[0]\n",
    "    return firstCellTuple[1]"
   ]
  },
  {
   "cell_type": "code",
   "execution_count": null,
   "id": "ec64b72f-ee11-40e1-9a2e-8869a2bd9a54",
   "metadata": {
    "tags": []
   },
   "outputs": [],
   "source": [
    "def fillCellForAttribute(rangeName, workbook, template, sheet, row_offset, value):\n",
    "    templateCellNumber = getFirstCellForNamedRange(workbook, template, rangeName)\n",
    "    targetCellNumber = template[templateCellNumber].offset(row=row_offset).coordinate\n",
    "    sheet[targetCellNumber] = value"
   ]
  },
  {
   "cell_type": "code",
   "execution_count": null,
   "id": "021ac5cc-5731-4859-acec-f3969d1fd681",
   "metadata": {},
   "outputs": [],
   "source": [
    "def getMergedCellsOrNone(sheet, row, column):\n",
    "    cell = sheet.cell(row, column)\n",
    "    for mergedCell in sheet.merged_cells.ranges:\n",
    "        if (cell.coordinate in mergedCell):\n",
    "            return mergedCell\n",
    "    return None"
   ]
  },
  {
   "cell_type": "code",
   "execution_count": null,
   "id": "c65c951d-9471-4f67-96c7-c61ac5a321e7",
   "metadata": {},
   "outputs": [],
   "source": [
    "def insertRowAndCopyFormat(template, sheet, source_row, target_row):\n",
    "    sheet.insert_rows(idx=target_row)\n",
    "    sheet.row_dimensions[target_row].height = template.row_dimensions[source_row].height\n",
    "    for col in range(1, 11):\n",
    "        sheet.cell(row=target_row, column=col)._style = template.cell(row=source_row, column=col)._style\n",
    "        mergedCells = getMergedCellsOrNone(template, source_row, col)\n",
    "        if mergedCells is not None and col == mergedCells.bounds[0]:\n",
    "            mergedCellsCopy = copy(mergedCells)\n",
    "            if target_row > source_row:\n",
    "                mergedCellsCopy.shift(row_shift=target_row-source_row)\n",
    "                sheet.merge_cells(range_string=(mergedCellsCopy.coord))"
   ]
  },
  {
   "cell_type": "code",
   "execution_count": null,
   "id": "9964680b-8af7-495d-ad80-6f6c800611a0",
   "metadata": {
    "tags": []
   },
   "outputs": [],
   "source": [
    "Path.unlink(BASE_DIR / outputDirectory / fileNamePackList, missing_ok=True)\n",
    "shutil.copyfile(BASE_DIR / templateDirectory / fileNamePackListTemplate, \n",
    "                BASE_DIR / outputDirectory / fileNamePackList)"
   ]
  },
  {
   "cell_type": "code",
   "execution_count": null,
   "id": "dcaa0d33-24f8-41e5-80d1-340d58c85a8d",
   "metadata": {
    "tags": []
   },
   "outputs": [],
   "source": [
    "workbook = load_workbook(filename=BASE_DIR / outputDirectory / fileNamePackList)\n",
    "template_sheet = workbook['template']"
   ]
  },
  {
   "cell_type": "code",
   "execution_count": null,
   "id": "46fed46c-050d-4de4-baf5-43b1e2042e58",
   "metadata": {},
   "outputs": [],
   "source": [
    "dfAllData = dfAllData.sort_values(by=['PickUpDate', 'PickUpTime', 'PackingCategoryIndex'])"
   ]
  },
  {
   "cell_type": "code",
   "execution_count": null,
   "id": "4f333cae-ff71-4637-be04-c8341e05c59c",
   "metadata": {},
   "outputs": [],
   "source": [
    "dfGroupedByOrderNumber = dfAllData.groupby(by=['PickUpDate', 'PickUpTime', 'OrderNumber'])"
   ]
  },
  {
   "cell_type": "code",
   "execution_count": null,
   "id": "567d7d74-7863-4865-8ff0-e1ffca7226d5",
   "metadata": {
    "tags": []
   },
   "outputs": [],
   "source": [
    "articleCell = getFirstCellForNamedRange(workbook, template_sheet, 'ArticleNumber')\n",
    "headerRow = template_sheet[articleCell].row\n",
    "\n",
    "for index, group in dfGroupedByOrderNumber:\n",
    "    new_sheet = workbook.copy_worksheet(template_sheet)\n",
    "    order_number = group.iloc[0]['OrderNumber']\n",
    "    new_sheet.title = 'PO_' + str(order_number)\n",
    "    for rangeName in ['FullName', 'OrderTotalAmount', 'CustomerNote', 'OrderNumber', 'Telephone', 'PickUpDate', 'PickUpTime']:\n",
    "        fieldValue = group.iloc[0][rangeName]\n",
    "        fillCellForAttribute(rangeName, workbook, template_sheet, new_sheet, 0, fieldValue)\n",
    "    new_sheet.delete_rows(idx=headerRow, amount=2)\n",
    "    # sort=False is important because packing categories should be according to order in file (not alphabetical)\n",
    "    dfGroupedByPickUpArea = group.groupby('PickUpArea', sort=False)\n",
    "    i = 0\n",
    "    d = 0\n",
    "    for area, subGroup in dfGroupedByPickUpArea:\n",
    "        for sub_index, row in subGroup.iterrows():\n",
    "            # sub_index is the (arbitrary) row number and cannot be used instead of i!\n",
    "            insertRowAndCopyFormat(template_sheet, new_sheet, headerRow, headerRow+i)\n",
    "            for rangeName in ['ArticleNumber', 'Quantity', 'ProductName', 'ItemCost', 'PickUpArea']:\n",
    "                fieldValue = row[rangeName]\n",
    "                fillCellForAttribute(rangeName, workbook, template_sheet, new_sheet, i, fieldValue)\n",
    "            i+=1\n",
    "            fillCellForAttribute('RowNumber', workbook, template_sheet, new_sheet, i-1, i-d)\n",
    "        insertRowAndCopyFormat(template_sheet, new_sheet, headerRow+1, headerRow+i)\n",
    "        i+=1\n",
    "        d+=1\n",
    "    for j in range(0,10):\n",
    "        offset = headerRow+i\n",
    "        new_sheet.row_dimensions[offset+j].height = template_sheet.row_dimensions[headerRow+2+j].height\n",
    "    fillCellForAttribute('NumberOfRows', workbook, template_sheet, new_sheet, 0, str(i-d))"
   ]
  },
  {
   "cell_type": "code",
   "execution_count": null,
   "id": "36ea1965-d741-4d32-aa12-2474dfed2ebc",
   "metadata": {},
   "outputs": [],
   "source": [
    "workbook.remove(template_sheet)"
   ]
  },
  {
   "cell_type": "code",
   "execution_count": null,
   "id": "cb209eca-f2ba-401c-9533-db7b632ae2fe",
   "metadata": {
    "tags": []
   },
   "outputs": [],
   "source": [
    "workbook.save(filename=BASE_DIR / outputDirectory / fileNamePackList)"
   ]
  },
  {
   "cell_type": "markdown",
   "id": "50ed8039-57ae-4845-97e1-80193e3fbb91",
   "metadata": {},
   "source": [
    "### Hämtlista"
   ]
  },
  {
   "cell_type": "code",
   "execution_count": null,
   "id": "b2ca4437-2a2d-4e77-aaed-5d30c8d31fc8",
   "metadata": {},
   "outputs": [],
   "source": [
    "weekDayDict = {\n",
    "0: 'Mån',\n",
    "1: 'Tis',\n",
    "2: 'Ons',\n",
    "3: 'Tor',\n",
    "4: 'Fre',\n",
    "5: 'Lör',\n",
    "6: 'Sön'}"
   ]
  },
  {
   "cell_type": "code",
   "execution_count": null,
   "id": "8c30d5da-cef2-4f0f-9b04-4eb45502404f",
   "metadata": {
    "tags": []
   },
   "outputs": [],
   "source": [
    "Path.unlink(BASE_DIR / outputDirectory / fileNamePickUpList, missing_ok=True)\n",
    "shutil.copyfile(BASE_DIR / templateDirectory / fileNamePickUpListTemplate,\n",
    "                BASE_DIR / outputDirectory / fileNamePickUpList)"
   ]
  },
  {
   "cell_type": "code",
   "execution_count": null,
   "id": "a0d573c9-c8e1-4022-9a2d-9b1f85cf7a55",
   "metadata": {
    "tags": []
   },
   "outputs": [],
   "source": [
    "workbook = load_workbook(filename=BASE_DIR / outputDirectory / fileNamePickUpList)\n",
    "template_sheet = workbook['template']"
   ]
  },
  {
   "cell_type": "code",
   "execution_count": null,
   "id": "1f67783e-af9f-4460-9b72-2136876b5724",
   "metadata": {},
   "outputs": [],
   "source": [
    "dfGroupedByPickUpDate = dfAllData.drop_duplicates(subset=['OrderNumber']).groupby('PickUpDate')"
   ]
  },
  {
   "cell_type": "code",
   "execution_count": null,
   "id": "7bdc2637-dcb8-4c3e-b605-142e5fb67846",
   "metadata": {
    "tags": []
   },
   "outputs": [],
   "source": [
    "pickUpTimeCell = getFirstCellForNamedRange(workbook, template_sheet, 'PickUpTime')\n",
    "orderNumberCol = template_sheet[pickUpTimeCell].column\n",
    "\n",
    "for ts, group in dfGroupedByPickUpDate:\n",
    "    new_sheet = workbook.copy_worksheet(template_sheet)\n",
    "    new_sheet.title = 'Hämtas ' + str(ts.date())\n",
    "    fillCellForAttribute('Weekday', workbook, template_sheet, new_sheet, 0, weekDayDict[ts.weekday()])\n",
    "    fillCellForAttribute('PickUpDate', workbook, template_sheet, new_sheet, 0, ts.date())\n",
    "    fillCellForAttribute('CreationDateTime', workbook, template_sheet, new_sheet, 0, str(datetime.now()))\n",
    "    headerRow = template_sheet[pickUpTimeCell].row\n",
    "    new_sheet.delete_rows(idx=headerRow, amount=2)\n",
    "    group = group.sort_values(by=['FullName'])\n",
    "    dfGroupedByPickUpTime = group.groupby('PickUpTime')\n",
    "    scheduledTimes = dfSchedule[dfSchedule['Date']==ts.date()]['Tid']\n",
    "    i = 0\n",
    "    d = 0\n",
    "    for time in scheduledTimes:\n",
    "        insertRowAndCopyFormat(template_sheet, new_sheet, headerRow, headerRow+i)\n",
    "        fillCellForAttribute('PickUpTime', workbook, template_sheet, new_sheet, i, time)\n",
    "        i+=1\n",
    "        d+=1\n",
    "        if time in dfGroupedByPickUpTime.indices:\n",
    "            subGroup = dfGroupedByPickUpTime.get_group(time)\n",
    "            for index, row in subGroup.iterrows():\n",
    "                insertRowAndCopyFormat(template_sheet, new_sheet, headerRow+1, headerRow+i)\n",
    "                for rangeName in ['OrderNumber', 'FullName', 'Telephone', 'OrderTotalAmount', 'CustomerNote']:\n",
    "                    fieldValue = row[rangeName]\n",
    "                    fillCellForAttribute(rangeName, workbook, template_sheet, new_sheet, i-1, fieldValue)\n",
    "                i+=1\n",
    "                fillCellForAttribute('RowNumber', workbook, template_sheet, new_sheet, i-2, i-d)\n",
    "        else:\n",
    "            insertRowAndCopyFormat(template_sheet, new_sheet, headerRow+1, headerRow+i)\n",
    "            i+=1\n",
    "            fillCellForAttribute('RowNumber', workbook, template_sheet, new_sheet, i-2, i-d)"
   ]
  },
  {
   "cell_type": "code",
   "execution_count": null,
   "id": "0f1d33e0-4bc8-478f-8faf-d33b38878434",
   "metadata": {
    "tags": []
   },
   "outputs": [],
   "source": [
    "workbook.remove(template_sheet)"
   ]
  },
  {
   "cell_type": "code",
   "execution_count": null,
   "id": "3bc25974-f747-4a73-8855-5d32e56a6b88",
   "metadata": {
    "tags": []
   },
   "outputs": [],
   "source": [
    "workbook.save(filename=BASE_DIR / outputDirectory / fileNamePickUpList)"
   ]
  },
  {
   "cell_type": "markdown",
   "id": "7b60dfcd-31ee-4902-9162-f54e42588894",
   "metadata": {
    "tags": []
   },
   "source": [
    "### Semlelista"
   ]
  },
  {
   "cell_type": "code",
   "execution_count": null,
   "id": "5d140387-7b59-4039-a58d-3eca7771eb75",
   "metadata": {
    "tags": []
   },
   "outputs": [],
   "source": [
    "if marketType == 'pask':\n",
    "    Path.unlink(BASE_DIR / outputDirectory / fileNameSemleList, missing_ok=True)\n",
    "    shutil.copyfile(BASE_DIR / templateDirectory / fileNameSemleListTemplate, \n",
    "                    BASE_DIR / outputDirectory / fileNameSemleList)"
   ]
  },
  {
   "cell_type": "code",
   "execution_count": null,
   "id": "07904eba-2dc3-4ee9-908f-b3c0ac42468b",
   "metadata": {
    "tags": []
   },
   "outputs": [],
   "source": [
    "if marketType == 'pask':\n",
    "    workbook = load_workbook(filename=BASE_DIR / outputDirectory / fileNameSemleList)\n",
    "    template_sheet = workbook['template']"
   ]
  },
  {
   "cell_type": "code",
   "execution_count": null,
   "id": "67e49bc3-6ec8-49fb-b078-7d48405eb710",
   "metadata": {},
   "outputs": [],
   "source": [
    "if marketType == 'pask':\n",
    "    articleNumberSemla = '#H_11#'\n",
    "    dfOrdersSemla = dfAllData[dfAllData['ArticleNumber'] == articleNumberSemla]\n",
    "    dfOrdersSemla = dfOrdersSemla[['ArticleNumber', 'ProductName', 'Quantity', 'OrderNumber', 'FullName', 'Email', 'PickUpDate', 'PickUpTime']]\n",
    "    dfOrdersSemla['PickUpDateTime'] = [datetime.combine(d, t) for d, t in zip(dfOrdersSemla['PickUpDate'], dfOrdersSemla['PickUpTime'])]\n",
    "    if dfOrdersSemla.size > 0:\n",
    "        dfOrdersSemla['PickUpHour']  = dfOrdersSemla['PickUpDateTime'].dt.hour"
   ]
  },
  {
   "cell_type": "code",
   "execution_count": null,
   "id": "8e16067c-4842-42aa-b7cc-4f9e928fc7b0",
   "metadata": {},
   "outputs": [],
   "source": [
    "if marketType == 'pask':\n",
    "    dfGroupedByPickUpDate = dfOrdersSemla.groupby(['PickUpDate'])"
   ]
  },
  {
   "cell_type": "code",
   "execution_count": null,
   "id": "1c95ec19-6630-4bb0-b5f3-c01a2005c184",
   "metadata": {
    "tags": []
   },
   "outputs": [],
   "source": [
    "if marketType == 'pask':\n",
    "    orderNumberCell = getFirstCellForNamedRange(workbook, template_sheet, 'OrderNumber')\n",
    "    headerRow = template_sheet[orderNumberCell].row\n",
    "\n",
    "    new_sheet = workbook.copy_worksheet(template_sheet)\n",
    "    new_sheet.title = 'Semla-Lista'\n",
    "\n",
    "    for rangeName in ['ArticleNumber', 'ProductName']:\n",
    "        fieldValue = ''\n",
    "        if dfOrdersSemla.size > 0:\n",
    "            fieldValue = dfOrdersSemla.iloc[0][rangeName]\n",
    "        fillCellForAttribute(rangeName, workbook, template_sheet, new_sheet, 0, fieldValue)\n",
    "    new_sheet.delete_rows(idx=headerRow, amount=2)\n",
    "\n",
    "    i = 0\n",
    "\n",
    "    for day, group in dfGroupedByPickUpDate:\n",
    "        dfGroupedByPickUpArea = group.groupby('PickUpHour')\n",
    "        \n",
    "        for hour, subGroup in dfGroupedByPickUpArea:\n",
    "            for sub_index, row in subGroup.iterrows():\n",
    "                insertRowAndCopyFormat(template_sheet, new_sheet, headerRow, headerRow+i)\n",
    "                for rangeName in ['Quantity', 'OrderNumber', 'FullName', 'Email', 'PickUpDate', 'PickUpTime']:\n",
    "                    fieldValue = row[rangeName]\n",
    "                    fillCellForAttribute(rangeName, workbook, template_sheet, new_sheet, i, fieldValue)\n",
    "                i+=1\n",
    "            insertRowAndCopyFormat(template_sheet, new_sheet, headerRow+1, headerRow+i)\n",
    "            fillCellForAttribute('Day', workbook, template_sheet, new_sheet, i-1, day.strftime('%d.%m'))\n",
    "            timeIntervalString = str(hour) + ':00 - ' + str(hour+1) + ':00'\n",
    "            fillCellForAttribute('Hour', workbook, template_sheet, new_sheet, i-1, timeIntervalString)\n",
    "            fillCellForAttribute('NumberOfItemsName', workbook, template_sheet, new_sheet, i-1, 'Antal:')\n",
    "            numberOfItemsString = subGroup['Quantity'].sum()\n",
    "            fillCellForAttribute('NumberOfItems', workbook, template_sheet, new_sheet, i-1, numberOfItemsString)\n",
    "            i+=2\n",
    "            \n",
    "        for j in range(0,10):\n",
    "            offset = headerRow+i\n",
    "            new_sheet.row_dimensions[offset+j].height = template_sheet.row_dimensions[headerRow+2+j].height"
   ]
  },
  {
   "cell_type": "code",
   "execution_count": null,
   "id": "09a9f330-fbf2-4768-a592-7fefa80eb4c1",
   "metadata": {
    "tags": []
   },
   "outputs": [],
   "source": [
    "if marketType == 'pask':\n",
    "    workbook.remove(template_sheet)"
   ]
  },
  {
   "cell_type": "code",
   "execution_count": null,
   "id": "b2e18385-d1af-4414-a0bd-2d7fdc3bf996",
   "metadata": {
    "tags": []
   },
   "outputs": [],
   "source": [
    "if marketType == 'pask':\n",
    "    workbook.save(filename=BASE_DIR / outputDirectory / fileNameSemleList)"
   ]
  },
  {
   "cell_type": "markdown",
   "id": "70518a2f-aee8-4b6c-86bd-8819bd781520",
   "metadata": {
    "tags": []
   },
   "source": [
    "### Masterlista"
   ]
  },
  {
   "cell_type": "code",
   "execution_count": null,
   "id": "dfa51187-b783-40d3-83e6-712f661496d3",
   "metadata": {
    "tags": []
   },
   "outputs": [],
   "source": [
    "dfMasterList = dfAllData[['OrderNumber', 'FullName', 'Email', 'OrderTotalAmount', 'OrderDate', \n",
    "              'Telephone', 'CustomerNote', 'Info', 'PickUpDate', 'PickUpTime']]"
   ]
  },
  {
   "cell_type": "code",
   "execution_count": null,
   "id": "9f5ab79a-a6d2-47de-bceb-8660d482afdc",
   "metadata": {},
   "outputs": [],
   "source": [
    "dfMasterList.columns = ['Order Number', 'Full Name (Billing)', 'Email (Billing)', 'Order Total Amount', 'Order Date', \n",
    "              'Telephone', 'Customer Note', 'Info ok', 'Hämtningsdag', 'Hämtning Tid']"
   ]
  },
  {
   "cell_type": "code",
   "execution_count": null,
   "id": "086e876c-9fb1-428d-9449-bacea72cc8ef",
   "metadata": {},
   "outputs": [],
   "source": [
    "dfMasterList = dfMasterList.drop_duplicates()"
   ]
  },
  {
   "cell_type": "code",
   "execution_count": null,
   "id": "6fdc3173-71c1-4442-8731-a350b8d0f7f2",
   "metadata": {
    "tags": []
   },
   "outputs": [],
   "source": [
    "dfMasterList.to_excel(BASE_DIR / outputDirectory / fileNameMasterList)"
   ]
  }
 ],
 "metadata": {
  "kernelspec": {
   "display_name": "Python 3 (ipykernel)",
   "language": "python",
   "name": "python3"
  },
  "language_info": {
   "codemirror_mode": {
    "name": "ipython",
    "version": 3
   },
   "file_extension": ".py",
   "mimetype": "text/x-python",
   "name": "python",
   "nbconvert_exporter": "python",
   "pygments_lexer": "ipython3",
   "version": "3.11.7"
  },
  "vscode": {
   "interpreter": {
    "hash": "39613736cfcfec37a18ade055faab4b660a4cf36b93417dbf71c3755adaa8e43"
   }
  }
 },
 "nbformat": 4,
 "nbformat_minor": 5
}
